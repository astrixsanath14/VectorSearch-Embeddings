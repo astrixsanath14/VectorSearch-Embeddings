{
 "cells": [
  {
   "cell_type": "code",
   "execution_count": null,
   "metadata": {
    "id": "c3_K0GGSTrhd"
   },
   "outputs": [],
   "source": [
    "# Copyright 2023 Google LLC\n",
    "#\n",
    "# Licensed under the Apache License, Version 2.0 (the \"License\");\n",
    "# you may not use this file except in compliance with the License.\n",
    "# You may obtain a copy of the License at\n",
    "#\n",
    "#     https://www.apache.org/licenses/LICENSE-2.0\n",
    "#\n",
    "# Unless required by applicable law or agreed to in writing, software\n",
    "# distributed under the License is distributed on an \"AS IS\" BASIS,\n",
    "# WITHOUT WARRANTIES OR CONDITIONS OF ANY KIND, either express or implied.\n",
    "# See the License for the specific language governing permissions and\n",
    "# limitations under the License."
   ]
  },
  {
   "cell_type": "markdown",
   "metadata": {
    "id": "7VQkf8sFTeDo"
   },
   "source": [
    "# Getting Started with Text Embeddings + Vertex AI Vector Search\n",
    "\n",
    "\n",
    "<table align=\"left\">\n",
    "  <td style=\"text-align: center\">\n",
    "    <a href=\"https://colab.research.google.com/github/GoogleCloudPlatform/generative-ai/blob/main/embeddings/intro-textemb-vectorsearch.ipynb\">\n",
    "      <img width=\"32px\" src=\"https://www.gstatic.com/pantheon/images/bigquery/welcome_page/colab-logo.svg\" alt=\"Google Colaboratory logo\"><br> Open in Colab\n",
    "    </a>\n",
    "  </td>\n",
    "  <td style=\"text-align: center\">\n",
    "    <a href=\"https://console.cloud.google.com/vertex-ai/colab/import/https:%2F%2Fraw.githubusercontent.com%2FGoogleCloudPlatform%2Fgenerative-ai%2Fmain%2Fembeddings%2Fintro-textemb-vectorsearch.ipynb\">\n",
    "      <img width=\"32px\" src=\"https://lh3.googleusercontent.com/JmcxdQi-qOpctIvWKgPtrzZdJJK-J3sWE1RsfjZNwshCFgE_9fULcNpuXYTilIR2hjwN\" alt=\"Google Cloud Colab Enterprise logo\"><br> Open in Colab Enterprise\n",
    "    </a>\n",
    "  </td>\n",
    "  <td style=\"text-align: center\">\n",
    "    <a href=\"https://console.cloud.google.com/vertex-ai/workbench/deploy-notebook?download_url=https://raw.githubusercontent.com/GoogleCloudPlatform/generative-ai/main/embeddings/intro-textemb-vectorsearch.ipynb\">\n",
    "      <img src=\"https://www.gstatic.com/images/branding/gcpiconscolors/vertexai/v1/32px.svg\" alt=\"Vertex AI logo\"><br> Open in Vertex AI Workbench\n",
    "    </a>\n",
    "  </td>\n",
    "  <td style=\"text-align: center\">\n",
    "    <a href=\"https://console.cloud.google.com/bigquery/import?url=https://github.com/GoogleCloudPlatform/generative-ai/blob/main/embeddings/intro-textemb-vectorsearch.ipynb\">\n",
    "      <img src=\"https://www.gstatic.com/images/branding/gcpiconscolors/bigquery/v1/32px.svg\" alt=\"BigQuery Studio logo\"><br> Open in BigQuery Studio\n",
    "    </a>\n",
    "  </td>\n",
    "  <td style=\"text-align: center\">\n",
    "    <a href=\"https://github.com/GoogleCloudPlatform/generative-ai/blob/main/embeddings/intro-textemb-vectorsearch.ipynb\">\n",
    "      <img width=\"32px\" src=\"https://upload.wikimedia.org/wikipedia/commons/9/91/Octicons-mark-github.svg\" alt=\"GitHub logo\"><br> View on GitHub\n",
    "    </a>\n",
    "  </td>\n",
    "</table>\n",
    "\n",
    "<div style=\"clear: both;\"></div>\n",
    "\n",
    "<b>Share to:</b>\n",
    "\n",
    "<a href=\"https://www.linkedin.com/sharing/share-offsite/?url=https%3A//github.com/GoogleCloudPlatform/generative-ai/blob/main/embeddings/intro-textemb-vectorsearch.ipynb\" target=\"_blank\">\n",
    "  <img width=\"20px\" src=\"https://upload.wikimedia.org/wikipedia/commons/8/81/LinkedIn_icon.svg\" alt=\"LinkedIn logo\">\n",
    "</a>\n",
    "\n",
    "<a href=\"https://bsky.app/intent/compose?text=https%3A//github.com/GoogleCloudPlatform/generative-ai/blob/main/embeddings/intro-textemb-vectorsearch.ipynb\" target=\"_blank\">\n",
    "  <img width=\"20px\" src=\"https://upload.wikimedia.org/wikipedia/commons/7/7a/Bluesky_Logo.svg\" alt=\"Bluesky logo\">\n",
    "</a>\n",
    "\n",
    "<a href=\"https://twitter.com/intent/tweet?url=https%3A//github.com/GoogleCloudPlatform/generative-ai/blob/main/embeddings/intro-textemb-vectorsearch.ipynb\" target=\"_blank\">\n",
    "  <img width=\"20px\" src=\"https://upload.wikimedia.org/wikipedia/commons/5/53/X_logo_2023_original.svg\" alt=\"X logo\">\n",
    "</a>\n",
    "\n",
    "<a href=\"https://reddit.com/submit?url=https%3A//github.com/GoogleCloudPlatform/generative-ai/blob/main/embeddings/intro-textemb-vectorsearch.ipynb\" target=\"_blank\">\n",
    "  <img width=\"20px\" src=\"https://redditinc.com/hubfs/Reddit%20Inc/Brand/Reddit_Logo.png\" alt=\"Reddit logo\">\n",
    "</a>\n",
    "\n",
    "<a href=\"https://www.facebook.com/sharer/sharer.php?u=https%3A//github.com/GoogleCloudPlatform/generative-ai/blob/main/embeddings/intro-textemb-vectorsearch.ipynb\" target=\"_blank\">\n",
    "  <img width=\"20px\" src=\"https://upload.wikimedia.org/wikipedia/commons/5/51/Facebook_f_logo_%282019%29.svg\" alt=\"Facebook logo\">\n",
    "</a>            "
   ]
  },
  {
   "cell_type": "markdown",
   "metadata": {
    "id": "4d742715e6de"
   },
   "source": [
    "| | |\n",
    "|-|-|\n",
    "|Author(s) | [Smitha Venkat](https://github.com/smitha-google), [Kaz Sato](https://github.com/kazunori279)|"
   ]
  },
  {
   "cell_type": "markdown",
   "metadata": {
    "id": "25a71983a324"
   },
   "source": [
    "## Introduction\n",
    "\n",
    "In this tutorial, you learn how to use Google Cloud AI tools to quickly bring the power of Large Language Models to enterprise systems.  \n",
    "\n",
    "This tutorial covers the following -\n",
    "\n",
    "*   What are embeddings - what business challenges do they help solve ?\n",
    "*   Understanding Text with Vertex AI Text Embeddings\n",
    "*   Find Embeddings fast with Vertex AI Vector Search\n",
    "*   Grounding LLM outputs with Vector Search\n",
    "\n",
    "This tutorial is based on [the blog post](https://cloud.google.com/blog/products/ai-machine-learning/how-to-use-grounding-for-your-llms-with-text-embeddings), combined with sample code.\n",
    "\n",
    "\n",
    "### Prerequisites\n",
    "\n",
    "This tutorial is designed for developers who has basic knowledge and experience with Python programming and machine learning.\n",
    "\n",
    "If you are not reading this tutorial in Qwiklab, then you need to have a Google Cloud project that is linked to a billing account to run this. Please go through [this document](https://cloud.google.com/vertex-ai/docs/start/cloud-environment) to create a project and setup a billing account for it.\n",
    "\n",
    "### Choose the runtime environment\n",
    "\n",
    "The notebook can be run on either Google Colab or [Vertex AI Workbench](https://cloud.google.com/vertex-ai-workbench).\n",
    "\n",
    "- To use Colab: Click [this link](https://colab.research.google.com/github/GoogleCloudPlatform/generative-ai/blob/main/embeddings/intro-textemb-vectorsearch.ipynb) to open the tutorial in Colab.\n",
    "\n",
    "- To use Workbench: If it is the first time to use Workbench in your Google Cloud project, open [the Workbench console](https://console.cloud.google.com/vertex-ai/workbench) and click ENABLE button to enable Notebooks API. Then click [this link](https://console.cloud.google.com/vertex-ai/workbench/deploy-notebook?download_url=https://raw.githubusercontent.com/GoogleCloudPlatform/generative-ai/main/embeddings/intro-textemb-vectorsearch.ipynb),  and select an existing notebook or create a new notebook.\n"
   ]
  },
  {
   "cell_type": "markdown",
   "metadata": {
    "id": "2pImjuenUIQz"
   },
   "source": [
    "### How much will this cost?\n",
    "\n",
    "In case you are using your own Cloud project, not a temporary project on Qwiklab, you need to spend roughly a few US dollars to finish this tutorial.\n",
    "\n",
    "The pricing of the Cloud services we will use in this tutorial are available in the following pages:\n",
    "\n",
    "- [Vertex AI Embeddings for Text](https://cloud.google.com/vertex-ai/pricing#generative_ai_models)\n",
    "- [Vertex AI Vector Search](https://cloud.google.com/vertex-ai/pricing#matchingengine)\n",
    "- [BigQuery](https://cloud.google.com/bigquery/pricing)\n",
    "- [Cloud Storage](https://cloud.google.com/storage/pricing)\n",
    "- [Vertex AI Workbench](https://cloud.google.com/vertex-ai/pricing#notebooks) if you use one\n",
    "\n",
    "You can use the [Pricing Calculator](https://cloud.google.com/products/calculator) to generate a cost estimate based on your projected usage. The following is an example of rough cost estimation with the calculator, assuming you will go through this tutorial a couple of time.\n",
    "\n",
    "<img src=\"https://storage.googleapis.com/github-repo/img/embeddings/vs-quickstart/pricing.png\" width=\"50%\"/>\n",
    "\n",
    "### **Warning: delete your objects after the tutorial**\n",
    "\n",
    "In case you are using your own Cloud project, please make sure to delete all the Indexes, Index Endpoints and Cloud Storage buckets (and the Workbench instance if you use one) after finishing this tutorial. Otherwise the remaining assets would incur unexpected costs.\n"
   ]
  },
  {
   "cell_type": "markdown",
   "metadata": {
    "id": "6Fu2OoUDTQ6w"
   },
   "source": [
    "# Bringing Gen AI and LLMs to production services\n",
    "\n",
    "Many people are now starting to think about how to bring Gen AI and LLMs to production services, and facing with several challenges.\n",
    "\n",
    "- \"How to integrate LLMs or AI chatbots with existing IT systems, databases and business data?\"\n",
    "- \"We have thousands of products. How can I let LLM memorize them all precisely?\"\n",
    "- \"How to handle the hallucination issues in AI chatbots to build a reliable service?\"\n",
    "\n",
    "Here is a quick solution: **grounding** with **embeddings** and **vector search**.\n",
    "\n",
    "What is grounding? What are embedding and vector search? In this tutorial, we will learn these crucial concepts to build reliable Gen AI services for enterprise use. But before we dive deeper, let's try the demo below."
   ]
  },
  {
   "cell_type": "markdown",
   "metadata": {
    "id": "ORqZYLgTm9pJ"
   },
   "source": [
    "![](https://storage.googleapis.com/gweb-cloudblog-publish/original_images/1._demo_animation.gif)\n",
    "\n",
    "**Exercise: Try the Stack Overflow semantic search demo:**\n",
    "\n",
    "This demo is available as a [public live demo](https://ai-demos.dev/). Select \"STACKOVERFLOW\" and enter any coding question as a query, so it runs a text search on **8 million** questions posted on [Stack Overflow](https://stackoverflow.com/). Try the text semantic search with some queries like 'How to shuffle rows in SQL?' or arbitrary programming questions.\n",
    "\n",
    "In this tutorial, we are going to see how to build a similar search experience - what is involved in building solutions like this using Vertex AI Embeddings API and Vector Search."
   ]
  },
  {
   "cell_type": "markdown",
   "metadata": {
    "id": "H1MAIOkCw35V"
   },
   "source": [
    "# What is Embeddings?\n",
    "\n",
    "With the rise of LLMs, why is it becoming important for IT engineers and ITDMs to understand how they work?\n",
    "\n",
    "In traditional IT systems, most data is organized as structured or tabular data, using simple keywords, labels, and categories in databases and search engines.\n",
    "\n",
    "![](https://storage.googleapis.com/github-repo/img/embeddings/textemb-vs-notebook/1.png)\n",
    "\n",
    "In contrast, AI-powered services arrange data into a simple data structure known as \"embeddings.\"\n",
    "\n",
    "![](https://storage.googleapis.com/github-repo/img/embeddings/textemb-vs-notebook/2.png)"
   ]
  },
  {
   "cell_type": "markdown",
   "metadata": {
    "id": "hJqjBmQsxz2Z"
   },
   "source": [
    "Once trained with specific content like text, images, or any content, AI creates a space called \"embedding space\", which is essentially a map of the content's meaning.\n",
    "\n",
    "![](https://storage.googleapis.com/github-repo/img/embeddings/textemb-vs-notebook/3.png)\n",
    "\n",
    "AI can identify the location of each content on the map, that's what embedding is.\n",
    "\n",
    "![](https://storage.googleapis.com/github-repo/img/embeddings/textemb-vs-notebook/4.png)\n",
    "\n",
    "Let's take an example where a text discusses movies, music, and actors, with a distribution of 10%, 2%, and 30%, respectively. In this case, the AI can create an embedding with three values: 0.1, 0.02, and 0.3, in 3 dimensional space.\n",
    "\n",
    "![](https://storage.googleapis.com/github-repo/img/embeddings/textemb-vs-notebook/5.png)\n",
    "\n",
    "AI can put content with similar meanings closely together in the space."
   ]
  },
  {
   "cell_type": "markdown",
   "metadata": {
    "id": "A5z7vyTyzk_4"
   },
   "source": [
    "This is how Google organizes data across various services like Google Search, YouTube, Play, and many others, to provide search results and recommendations with relevant content.\n",
    "\n",
    "Embeddings can also be used to represent different types of things in businesses, such as products, users, user activities, conversations, music & videos, signals from IoT sensors, and so on."
   ]
  },
  {
   "cell_type": "markdown",
   "metadata": {
    "id": "tpKVmyEe0ab9"
   },
   "source": [
    "AI and Embeddings are now playing a crucial role in creating a new way of human-computer interaction.\n",
    "\n",
    "![](https://storage.googleapis.com/github-repo/img/embeddings/textemb-vs-notebook/6.png)\n",
    "\n",
    "AI organizes data into embeddings, which represent what the user is looking for, the meaning of contents, or many other things you have in your business. This creates a new level of user experience that is becoming the new standard.\n",
    "\n",
    "To learn more about embeddings, [Foundational courses: Embeddings on Google Machine Learning Crush Course](https://developers.google.com/machine-learning/crash-course/embeddings/video-lecture) and [Meet AI's multitool: Vector embeddings by Dale Markowitz](https://cloud.google.com/blog/topics/developers-practitioners/meet-ais-multitool-vector-embeddings) are great materials.\n"
   ]
  },
  {
   "cell_type": "markdown",
   "metadata": {
    "id": "ovQpiL2GUEXa"
   },
   "source": [
    "# Vertex AI Embeddings for Text\n",
    "\n",
    "With the [Vertex AI Embeddings for Text](https://cloud.google.com/vertex-ai/docs/generative-ai/embeddings/get-text-embeddings), you can easily create a text embedding with LLM. The product is also available on [Vertex AI Model Garden](https://cloud.google.com/model-garden)\n",
    "\n",
    "![](https://storage.googleapis.com/github-repo/img/embeddings/textemb-vs-notebook/7.png)\n",
    "\n",
    "This API is designed to extract embeddings from texts. It can take text input up to 2048 input tokens, and outputs 768 dimensional text embeddings."
   ]
  },
  {
   "cell_type": "markdown",
   "metadata": {
    "id": "nwJHDPG7lU52"
   },
   "source": [
    "## LLM text embedding business use cases\n",
    "\n",
    "With the embedding API, you can apply the innovation of embeddings, combined with the LLM capability, to various text processing tasks, such as:\n",
    "\n",
    "**LLM-enabled Semantic Search**: text embeddings can be used to represent both the meaning and intent of a user's query and documents in the embedding space. Documents that have similar meaning to the user's query intent will be found fast with vector search technology. The model is capable of generating text embeddings that capture the subtle nuances of each sentence and paragraphs in the document.\n",
    "\n",
    "**LLM-enabled Text Classification**: LLM text embeddings can be used for text classification with a deep understanding of different contexts without any training or fine-tuning (so-called zero-shot learning). This wasn't possible with the past language models without task-specific training.\n",
    "\n",
    "**LLM-enabled Recommendation**: The text embedding can be used for recommendation systems as a strong feature for training recommendation models such as Two-Tower model. The model learns the relationship between the query and candidate embeddings, resulting in next-gen user experience with semantic product recommendation.\n",
    "\n",
    "LLM-enabled Clustering, Anomaly Detection, Sentiment Analysis, and more, can be also handled with the LLM-level deep semantics understanding.\n"
   ]
  },
  {
   "cell_type": "markdown",
   "metadata": {
    "id": "ga5A7koYlvlZ"
   },
   "source": [
    "## Sorting 8 million texts at \"librarian-level\" precision\n",
    "\n",
    "Vertex AI Embeddings for Text has an embedding space with 768 dimensions. As explained earlier, the space represents a huge map of a wide variety of texts in the world, organized by their meanings. With each input text, the model can find a location (embedding) in the map.\n",
    "\n",
    "By visualizing the embedding space, you can actually observe how the model sorts the texts at the \"librarian-level\" precision.\n",
    "\n",
    "**Exercise: Try the Nomic AI Atlas**\n",
    "\n",
    "[Nomic AI](http://nomic.ai/) provides a platform called Atlas for storing, visualizing and interacting with embedding spaces with high scalability and in a smooth UI, and they worked with Google for visualizing the embedding space of the 8 million Stack Overflow questions. You can try exploring around the space, zooming in and out to each data point on your browser on this page, courtesy of Nomic AI.\n",
    "\n",
    "The embedding space represents a huge map of texts, organized by their meanings\n",
    "With each input text, the model can find a location (embedding) in the map\n",
    "Like a librarian reading through millions of texts, sorting them with millions of nano-categories\n",
    "\n",
    "Try exploring it [here](https://atlas.nomic.ai/map/edaff028-12b5-42a0-8e8b-6430c9b8222b/bcb42818-3581-4fb5-ac30-9883d01f98ec). Zoom into a few categories, point each dots, and see how the LLM is sorting similar questions close together in the space.\n",
    "\n",
    "![](https://storage.googleapis.com/gweb-cloudblog-publish/images/4._Nomic_AI_Atlas.max-2200x2200.png)\n",
    "\n",
    "### The librarian-level semantic understanding\n",
    "\n",
    "Here are the examples of the librarian-level semantic understanding by Embeddings API with Stack Overflow questions.\n",
    "\n",
    "![](https://storage.googleapis.com/gweb-cloudblog-publish/images/5._semantic_understanding.max-2200x2200.png)\n",
    "\n",
    "For example, the model thinks the question \"Does moving the request line to a header frame require an app change?\" is similar to the question \"Does an application developed on HTTP1x require modifications to run on HTTP2?\". That is because The model knows both questions talk about what's the change required to support the HTTP2 header frame.\n",
    "\n",
    "Note that this demo didn't require any training or fine-tuning with computer programming specific datasets. This is the innovative part of the zero-shot learning capability of the LLM. It can be applied to a wide variety of industries, including finance, healthcare, retail, manufacturing, construction, media, and more, for deep semantic search on the industry-focused business documents without spending time and cost for collecting industry specific datasets and training models."
   ]
  },
  {
   "cell_type": "markdown",
   "metadata": {
    "id": "-iOWOKnIvYxf"
   },
   "source": [
    "# Text Embeddings in Action\n",
    "\n",
    "Lets try using Text Embeddings in action with actual sample code."
   ]
  },
  {
   "cell_type": "markdown",
   "metadata": {
    "id": "AtXnXhF8U-8R"
   },
   "source": [
    "## Setup\n",
    "\n",
    "Before get started with the Vertex AI services, we need to setup the following.\n",
    "\n",
    "* Install Python SDK\n",
    "* Environment variables\n",
    "* Authentication (Colab only)\n",
    "* Enable APIs\n",
    "* Set IAM permissions"
   ]
  },
  {
   "cell_type": "markdown",
   "metadata": {
    "id": "UjnvWl6FLUlF"
   },
   "source": [
    "### Install Python SDK\n",
    "\n",
    "Vertex AI, Cloud Storage and BigQuery APIs can be accessed with multiple ways including REST API and Python SDK. In this tutorial we will use the SDK."
   ]
  },
  {
   "cell_type": "code",
   "execution_count": 1,
   "metadata": {
    "id": "FZgLGALt_al7",
    "tags": []
   },
   "outputs": [
    {
     "name": "stdout",
     "output_type": "stream",
     "text": [
      "Requirement already satisfied: google-cloud-aiplatform in /opt/conda/lib/python3.10/site-packages (1.103.0)\n",
      "Collecting google-cloud-aiplatform\n",
      "  Downloading google_cloud_aiplatform-1.105.0-py2.py3-none-any.whl.metadata (38 kB)\n",
      "Requirement already satisfied: google-cloud-storage in /opt/conda/lib/python3.10/site-packages (2.19.0)\n",
      "Collecting google-cloud-storage\n",
      "  Downloading google_cloud_storage-3.2.0-py3-none-any.whl.metadata (13 kB)\n",
      "Requirement already satisfied: google-cloud-bigquery[pandas] in /opt/conda/lib/python3.10/site-packages (3.34.0)\n",
      "Collecting google-cloud-bigquery[pandas]\n",
      "  Downloading google_cloud_bigquery-3.35.1-py3-none-any.whl.metadata (8.0 kB)\n",
      "Requirement already satisfied: google-api-core!=2.0.*,!=2.1.*,!=2.2.*,!=2.3.*,!=2.4.*,!=2.5.*,!=2.6.*,!=2.7.*,<3.0.0,>=1.34.1 in /opt/conda/lib/python3.10/site-packages (from google-api-core[grpc]!=2.0.*,!=2.1.*,!=2.2.*,!=2.3.*,!=2.4.*,!=2.5.*,!=2.6.*,!=2.7.*,<3.0.0,>=1.34.1->google-cloud-aiplatform) (2.25.1)\n",
      "Requirement already satisfied: google-auth<3.0.0,>=2.14.1 in /opt/conda/lib/python3.10/site-packages (from google-cloud-aiplatform) (2.40.3)\n",
      "Requirement already satisfied: proto-plus<2.0.0,>=1.22.3 in /opt/conda/lib/python3.10/site-packages (from google-cloud-aiplatform) (1.26.1)\n",
      "Requirement already satisfied: protobuf!=4.21.0,!=4.21.1,!=4.21.2,!=4.21.3,!=4.21.4,!=4.21.5,<7.0.0,>=3.20.2 in /opt/conda/lib/python3.10/site-packages (from google-cloud-aiplatform) (3.20.3)\n",
      "Requirement already satisfied: packaging>=14.3 in /opt/conda/lib/python3.10/site-packages (from google-cloud-aiplatform) (25.0)\n",
      "Requirement already satisfied: google-cloud-resource-manager<3.0.0,>=1.3.3 in /opt/conda/lib/python3.10/site-packages (from google-cloud-aiplatform) (1.14.2)\n",
      "Requirement already satisfied: shapely<3.0.0 in /opt/conda/lib/python3.10/site-packages (from google-cloud-aiplatform) (2.1.1)\n",
      "Requirement already satisfied: google-genai<2.0.0,>=1.0.0 in /opt/conda/lib/python3.10/site-packages (from google-cloud-aiplatform) (1.25.0)\n",
      "Requirement already satisfied: pydantic<3 in /opt/conda/lib/python3.10/site-packages (from google-cloud-aiplatform) (2.11.7)\n",
      "Requirement already satisfied: typing_extensions in /opt/conda/lib/python3.10/site-packages (from google-cloud-aiplatform) (4.14.1)\n",
      "Requirement already satisfied: docstring_parser<1 in /opt/conda/lib/python3.10/site-packages (from google-cloud-aiplatform) (0.16)\n",
      "Requirement already satisfied: google-cloud-core<3.0dev,>=2.3.0 in /opt/conda/lib/python3.10/site-packages (from google-cloud-storage) (2.4.3)\n",
      "Requirement already satisfied: google-resumable-media>=2.7.2 in /opt/conda/lib/python3.10/site-packages (from google-cloud-storage) (2.7.2)\n",
      "Requirement already satisfied: requests<3.0.0dev,>=2.18.0 in /opt/conda/lib/python3.10/site-packages (from google-cloud-storage) (2.32.4)\n",
      "Requirement already satisfied: google-crc32c<2.0dev,>=1.0 in /opt/conda/lib/python3.10/site-packages (from google-cloud-storage) (1.7.1)\n",
      "Requirement already satisfied: googleapis-common-protos<2.0.0,>=1.56.2 in /opt/conda/lib/python3.10/site-packages (from google-api-core!=2.0.*,!=2.1.*,!=2.2.*,!=2.3.*,!=2.4.*,!=2.5.*,!=2.6.*,!=2.7.*,<3.0.0,>=1.34.1->google-api-core[grpc]!=2.0.*,!=2.1.*,!=2.2.*,!=2.3.*,!=2.4.*,!=2.5.*,!=2.6.*,!=2.7.*,<3.0.0,>=1.34.1->google-cloud-aiplatform) (1.70.0)\n",
      "Requirement already satisfied: grpcio<2.0.0,>=1.33.2 in /opt/conda/lib/python3.10/site-packages (from google-api-core[grpc]!=2.0.*,!=2.1.*,!=2.2.*,!=2.3.*,!=2.4.*,!=2.5.*,!=2.6.*,!=2.7.*,<3.0.0,>=1.34.1->google-cloud-aiplatform) (1.73.1)\n",
      "Requirement already satisfied: grpcio-status<2.0.0,>=1.33.2 in /opt/conda/lib/python3.10/site-packages (from google-api-core[grpc]!=2.0.*,!=2.1.*,!=2.2.*,!=2.3.*,!=2.4.*,!=2.5.*,!=2.6.*,!=2.7.*,<3.0.0,>=1.34.1->google-cloud-aiplatform) (1.48.2)\n",
      "Requirement already satisfied: cachetools<6.0,>=2.0.0 in /opt/conda/lib/python3.10/site-packages (from google-auth<3.0.0,>=2.14.1->google-cloud-aiplatform) (5.5.2)\n",
      "Requirement already satisfied: pyasn1-modules>=0.2.1 in /opt/conda/lib/python3.10/site-packages (from google-auth<3.0.0,>=2.14.1->google-cloud-aiplatform) (0.4.2)\n",
      "Requirement already satisfied: rsa<5,>=3.1.4 in /opt/conda/lib/python3.10/site-packages (from google-auth<3.0.0,>=2.14.1->google-cloud-aiplatform) (4.9.1)\n",
      "Requirement already satisfied: python-dateutil<3.0.0,>=2.8.2 in /opt/conda/lib/python3.10/site-packages (from google-cloud-bigquery[pandas]) (2.9.0.post0)\n",
      "Requirement already satisfied: grpc-google-iam-v1<1.0.0,>=0.14.0 in /opt/conda/lib/python3.10/site-packages (from google-cloud-resource-manager<3.0.0,>=1.3.3->google-cloud-aiplatform) (0.14.2)\n",
      "Requirement already satisfied: anyio<5.0.0,>=4.8.0 in /opt/conda/lib/python3.10/site-packages (from google-genai<2.0.0,>=1.0.0->google-cloud-aiplatform) (4.9.0)\n",
      "Requirement already satisfied: httpx<1.0.0,>=0.28.1 in /opt/conda/lib/python3.10/site-packages (from google-genai<2.0.0,>=1.0.0->google-cloud-aiplatform) (0.28.1)\n",
      "Requirement already satisfied: tenacity<9.0.0,>=8.2.3 in /opt/conda/lib/python3.10/site-packages (from google-genai<2.0.0,>=1.0.0->google-cloud-aiplatform) (8.5.0)\n",
      "Requirement already satisfied: websockets<15.1.0,>=13.0.0 in /opt/conda/lib/python3.10/site-packages (from google-genai<2.0.0,>=1.0.0->google-cloud-aiplatform) (15.0.1)\n",
      "Requirement already satisfied: exceptiongroup>=1.0.2 in /opt/conda/lib/python3.10/site-packages (from anyio<5.0.0,>=4.8.0->google-genai<2.0.0,>=1.0.0->google-cloud-aiplatform) (1.3.0)\n",
      "Requirement already satisfied: idna>=2.8 in /opt/conda/lib/python3.10/site-packages (from anyio<5.0.0,>=4.8.0->google-genai<2.0.0,>=1.0.0->google-cloud-aiplatform) (3.10)\n",
      "Requirement already satisfied: sniffio>=1.1 in /opt/conda/lib/python3.10/site-packages (from anyio<5.0.0,>=4.8.0->google-genai<2.0.0,>=1.0.0->google-cloud-aiplatform) (1.3.1)\n",
      "Requirement already satisfied: certifi in /opt/conda/lib/python3.10/site-packages (from httpx<1.0.0,>=0.28.1->google-genai<2.0.0,>=1.0.0->google-cloud-aiplatform) (2025.7.14)\n",
      "Requirement already satisfied: httpcore==1.* in /opt/conda/lib/python3.10/site-packages (from httpx<1.0.0,>=0.28.1->google-genai<2.0.0,>=1.0.0->google-cloud-aiplatform) (1.0.9)\n",
      "Requirement already satisfied: h11>=0.16 in /opt/conda/lib/python3.10/site-packages (from httpcore==1.*->httpx<1.0.0,>=0.28.1->google-genai<2.0.0,>=1.0.0->google-cloud-aiplatform) (0.16.0)\n",
      "Requirement already satisfied: annotated-types>=0.6.0 in /opt/conda/lib/python3.10/site-packages (from pydantic<3->google-cloud-aiplatform) (0.7.0)\n",
      "Requirement already satisfied: pydantic-core==2.33.2 in /opt/conda/lib/python3.10/site-packages (from pydantic<3->google-cloud-aiplatform) (2.33.2)\n",
      "Requirement already satisfied: typing-inspection>=0.4.0 in /opt/conda/lib/python3.10/site-packages (from pydantic<3->google-cloud-aiplatform) (0.4.1)\n",
      "Requirement already satisfied: six>=1.5 in /opt/conda/lib/python3.10/site-packages (from python-dateutil<3.0.0,>=2.8.2->google-cloud-bigquery[pandas]) (1.17.0)\n",
      "Requirement already satisfied: charset_normalizer<4,>=2 in /opt/conda/lib/python3.10/site-packages (from requests<3.0.0dev,>=2.18.0->google-cloud-storage) (3.4.2)\n",
      "Requirement already satisfied: urllib3<3,>=1.21.1 in /opt/conda/lib/python3.10/site-packages (from requests<3.0.0dev,>=2.18.0->google-cloud-storage) (1.26.20)\n",
      "Requirement already satisfied: pyasn1>=0.1.3 in /opt/conda/lib/python3.10/site-packages (from rsa<5,>=3.1.4->google-auth<3.0.0,>=2.14.1->google-cloud-aiplatform) (0.6.1)\n",
      "Requirement already satisfied: numpy>=1.21 in /opt/conda/lib/python3.10/site-packages (from shapely<3.0.0->google-cloud-aiplatform) (2.1.3)\n",
      "Requirement already satisfied: pandas>=1.3.0 in /opt/conda/lib/python3.10/site-packages (from google-cloud-bigquery[pandas]) (2.3.1)\n",
      "Requirement already satisfied: pandas-gbq>=0.26.1 in /opt/conda/lib/python3.10/site-packages (from google-cloud-bigquery[pandas]) (0.29.2)\n",
      "Requirement already satisfied: pyarrow>=3.0.0 in /opt/conda/lib/python3.10/site-packages (from google-cloud-bigquery[pandas]) (20.0.0)\n",
      "Requirement already satisfied: db-dtypes<2.0.0,>=1.0.4 in /opt/conda/lib/python3.10/site-packages (from google-cloud-bigquery[pandas]) (1.4.3)\n",
      "Requirement already satisfied: pytz>=2020.1 in /opt/conda/lib/python3.10/site-packages (from pandas>=1.3.0->google-cloud-bigquery[pandas]) (2025.2)\n",
      "Requirement already satisfied: tzdata>=2022.7 in /opt/conda/lib/python3.10/site-packages (from pandas>=1.3.0->google-cloud-bigquery[pandas]) (2025.2)\n",
      "Requirement already satisfied: setuptools in /opt/conda/lib/python3.10/site-packages (from pandas-gbq>=0.26.1->google-cloud-bigquery[pandas]) (80.1.0)\n",
      "Requirement already satisfied: pydata-google-auth>=1.5.0 in /opt/conda/lib/python3.10/site-packages (from pandas-gbq>=0.26.1->google-cloud-bigquery[pandas]) (1.9.1)\n",
      "Requirement already satisfied: google-auth-oauthlib>=0.7.0 in /opt/conda/lib/python3.10/site-packages (from pandas-gbq>=0.26.1->google-cloud-bigquery[pandas]) (1.2.2)\n",
      "Requirement already satisfied: requests-oauthlib>=0.7.0 in /opt/conda/lib/python3.10/site-packages (from google-auth-oauthlib>=0.7.0->pandas-gbq>=0.26.1->google-cloud-bigquery[pandas]) (2.0.0)\n",
      "Requirement already satisfied: oauthlib>=3.0.0 in /opt/conda/lib/python3.10/site-packages (from requests-oauthlib>=0.7.0->google-auth-oauthlib>=0.7.0->pandas-gbq>=0.26.1->google-cloud-bigquery[pandas]) (3.3.1)\n",
      "Downloading google_cloud_aiplatform-1.105.0-py2.py3-none-any.whl (7.9 MB)\n",
      "\u001b[2K   \u001b[90m━━━━━━━━━━━━━━━━━━━━━━━━━━━━━━━━━━━━━━━━\u001b[0m \u001b[32m7.9/7.9 MB\u001b[0m \u001b[31m43.0 MB/s\u001b[0m eta \u001b[36m0:00:00\u001b[0m\n",
      "\u001b[?25hDownloading google_cloud_bigquery-3.35.1-py3-none-any.whl (256 kB)\n",
      "Installing collected packages: google-cloud-bigquery, google-cloud-aiplatform\n",
      "\u001b[2K   \u001b[91m━━━━━━━━━━━━━━━━━━━━\u001b[0m\u001b[90m╺\u001b[0m\u001b[90m━━━━━━━━━━━━━━━━━━━\u001b[0m \u001b[32m1/2\u001b[0m [google-cloud-aiplatform]\u001b[33m  WARNING: The script tb-gcp-uploader is installed in '/home/jupyter/.local/bin' which is not on PATH.\n",
      "  Consider adding this directory to PATH or, if you prefer to suppress this warning, use --no-warn-script-location.\u001b[0m\u001b[33m\n",
      "\u001b[2K   \u001b[90m━━━━━━━━━━━━━━━━━━━━━━━━━━━━━━━━━━━━━━━━\u001b[0m \u001b[32m2/2\u001b[0m [google-cloud-aiplatform]\n",
      "\u001b[1A\u001b[2KSuccessfully installed google-cloud-aiplatform-1.105.0 google-cloud-bigquery-3.35.1\n",
      "Note: you may need to restart the kernel to use updated packages.\n"
     ]
    }
   ],
   "source": [
    "%pip install --upgrade --user google-cloud-aiplatform google-cloud-storage 'google-cloud-bigquery[pandas]'"
   ]
  },
  {
   "cell_type": "markdown",
   "metadata": {
    "id": "R5Xep4W9lq-Z"
   },
   "source": [
    "### Restart current runtime\n",
    "\n",
    "To use the newly installed packages in this Jupyter runtime, you must restart the runtime. You can do this by running the cell below, which will restart the current kernel."
   ]
  },
  {
   "cell_type": "code",
   "execution_count": 2,
   "metadata": {
    "id": "XRvKdaPDTznN",
    "tags": []
   },
   "outputs": [
    {
     "data": {
      "text/plain": [
       "{'status': 'ok', 'restart': True}"
      ]
     },
     "execution_count": 2,
     "metadata": {},
     "output_type": "execute_result"
    }
   ],
   "source": [
    "# Restart kernel after installs so that your environment can access the new packages\n",
    "import IPython\n",
    "\n",
    "app = IPython.Application.instance()\n",
    "app.kernel.do_shutdown(True)"
   ]
  },
  {
   "cell_type": "markdown",
   "metadata": {
    "id": "SbmM4z7FOBpM"
   },
   "source": [
    "<div class=\"alert alert-block alert-warning\">\n",
    "<b>⚠️ The kernel is going to restart. Please wait until it is finished before continuing to the next step. ⚠️</b>\n",
    "</div>\n"
   ]
  },
  {
   "cell_type": "markdown",
   "metadata": {
    "id": "nCoTvkOJoh76"
   },
   "source": [
    "### Environment variables\n",
    "\n",
    "Sets environment variables. If asked, please replace the following `[your-project-id]` with your project ID and run it."
   ]
  },
  {
   "cell_type": "code",
   "execution_count": 21,
   "metadata": {
    "id": "fkmvFRrj3nQI",
    "tags": []
   },
   "outputs": [],
   "source": [
    "# get project ID\n",
    "PROJECT_ID = ! gcloud config get project\n",
    "PROJECT_ID = PROJECT_ID[0]\n",
    "# LOCATION = \"us-central1\"\n",
    "LOCATION = \"us-west1\"\n",
    "if PROJECT_ID == \"(unset)\":\n",
    "    print(f\"Please set the project ID manually below\")"
   ]
  },
  {
   "cell_type": "code",
   "execution_count": 2,
   "metadata": {
    "id": "69XJ95rNoYG9",
    "tags": []
   },
   "outputs": [],
   "source": [
    "# define project information\n",
    "if PROJECT_ID == \"(unset)\":\n",
    "    PROJECT_ID = \"[your-project-id]\"  # @param {type:\"string\"}\n",
    "\n",
    "# generate an unique id for this session\n",
    "from datetime import datetime\n",
    "\n",
    "UID = datetime.now().strftime(\"%m%d%H%M\")"
   ]
  },
  {
   "cell_type": "markdown",
   "metadata": {
    "id": "ph7mDSMRVTIZ"
   },
   "source": [
    "### Authentication (Colab only)\n",
    "\n",
    "If you are running this notebook on Colab, you will need to run the following cell authentication. This step is not required if you are using Vertex AI Workbench as it is pre-authenticated."
   ]
  },
  {
   "cell_type": "code",
   "execution_count": 3,
   "metadata": {
    "id": "5jQkFtlimNXR",
    "tags": []
   },
   "outputs": [],
   "source": [
    "import sys\n",
    "\n",
    "# if it's Colab runtime, authenticate the user with Google Cloud\n",
    "if \"google.colab\" in sys.modules:\n",
    "    from google.colab import auth\n",
    "\n",
    "    auth.authenticate_user()"
   ]
  },
  {
   "cell_type": "markdown",
   "metadata": {
    "id": "jUPbl4IFLmC2"
   },
   "source": [
    "### Enable APIs\n",
    "\n",
    "Run the following to enable APIs for Compute Engine, Vertex AI, Cloud Storage and BigQuery with this Google Cloud project."
   ]
  },
  {
   "cell_type": "code",
   "execution_count": 4,
   "metadata": {
    "id": "qGf0qMMQNond",
    "tags": []
   },
   "outputs": [
    {
     "name": "stdout",
     "output_type": "stream",
     "text": [
      "Operation \"operations/acat.p2-294079641087-724354e7-6179-429e-9c4e-aa1a5af55de7\" finished successfully.\n"
     ]
    }
   ],
   "source": [
    "! gcloud services enable compute.googleapis.com aiplatform.googleapis.com storage.googleapis.com bigquery.googleapis.com --project {PROJECT_ID}"
   ]
  },
  {
   "cell_type": "markdown",
   "metadata": {
    "id": "8cF8rkN3Lnhq"
   },
   "source": [
    "### Set IAM permissions\n",
    "\n",
    "Also, we need to add access permissions to the default service account for using those services.\n",
    "\n",
    "- Go to [the IAM page](https://console.cloud.google.com/iam-admin/) in the Console\n",
    "- Look for the principal for default compute service account. It should look like: `<project-number>-compute@developer.gserviceaccount.com`\n",
    "- Click the edit button at right and click `ADD ANOTHER ROLE` to add `Vertex AI User`, `BigQuery User` and `Storage Admin` to the account.\n",
    "\n",
    "This will look like this:\n",
    "\n",
    "![](https://storage.googleapis.com/github-repo/img/embeddings/vs-quickstart/iam-setting.png)"
   ]
  },
  {
   "cell_type": "markdown",
   "metadata": {
    "id": "mahCxLXHMIls"
   },
   "source": [
    "## Getting Started with Vertex AI Embeddings for Text\n",
    "\n",
    "Now it's ready to get started with embeddings!"
   ]
  },
  {
   "cell_type": "markdown",
   "metadata": {
    "id": "rq07_-o0VoZD"
   },
   "source": [
    "### Data Preparation\n",
    "\n",
    "We will be using [the Stack Overflow public dataset](https://console.cloud.google.com/marketplace/product/stack-exchange/stack-overflow) hosted on BigQuery table `bigquery-public-data.stackoverflow.posts_questions`. This is a very big dataset with 23 million rows that doesn't fit into the memory. We are going to limit it to 1000 rows for this tutorial."
   ]
  },
  {
   "cell_type": "code",
   "execution_count": 5,
   "metadata": {
    "id": "snrzPsEQDH4S",
    "tags": []
   },
   "outputs": [
    {
     "data": {
      "text/html": [
       "<div>\n",
       "<style scoped>\n",
       "    .dataframe tbody tr th:only-of-type {\n",
       "        vertical-align: middle;\n",
       "    }\n",
       "\n",
       "    .dataframe tbody tr th {\n",
       "        vertical-align: top;\n",
       "    }\n",
       "\n",
       "    .dataframe thead th {\n",
       "        text-align: right;\n",
       "    }\n",
       "</style>\n",
       "<table border=\"1\" class=\"dataframe\">\n",
       "  <thead>\n",
       "    <tr style=\"text-align: right;\">\n",
       "      <th></th>\n",
       "      <th>id</th>\n",
       "      <th>title</th>\n",
       "    </tr>\n",
       "  </thead>\n",
       "  <tbody>\n",
       "    <tr>\n",
       "      <th>0</th>\n",
       "      <td>72237772</td>\n",
       "      <td>Using an unstructured JSON column for Clickhou...</td>\n",
       "    </tr>\n",
       "    <tr>\n",
       "      <th>1</th>\n",
       "      <td>72144965</td>\n",
       "      <td>How to search for specific fields in an array ...</td>\n",
       "    </tr>\n",
       "    <tr>\n",
       "      <th>2</th>\n",
       "      <td>72219458</td>\n",
       "      <td>Is it possible to override yarn install to use...</td>\n",
       "    </tr>\n",
       "    <tr>\n",
       "      <th>3</th>\n",
       "      <td>72177068</td>\n",
       "      <td>Spring Boot - Gradle - No auto configuration c...</td>\n",
       "    </tr>\n",
       "    <tr>\n",
       "      <th>4</th>\n",
       "      <td>72192987</td>\n",
       "      <td>How to configure caddy to deliver static file ...</td>\n",
       "    </tr>\n",
       "  </tbody>\n",
       "</table>\n",
       "</div>"
      ],
      "text/plain": [
       "         id                                              title\n",
       "0  72237772  Using an unstructured JSON column for Clickhou...\n",
       "1  72144965  How to search for specific fields in an array ...\n",
       "2  72219458  Is it possible to override yarn install to use...\n",
       "3  72177068  Spring Boot - Gradle - No auto configuration c...\n",
       "4  72192987  How to configure caddy to deliver static file ..."
      ]
     },
     "execution_count": 5,
     "metadata": {},
     "output_type": "execute_result"
    }
   ],
   "source": [
    "# load the BQ Table into a Pandas DataFrame\n",
    "from google.cloud import bigquery\n",
    "\n",
    "QUESTIONS_SIZE = 1000\n",
    "\n",
    "bq_client = bigquery.Client(project=PROJECT_ID)\n",
    "QUERY_TEMPLATE = \"\"\"\n",
    "        SELECT distinct q.id, q.title\n",
    "        FROM (SELECT * FROM `bigquery-public-data.stackoverflow.posts_questions`\n",
    "        where Score > 0 ORDER BY View_Count desc) AS q\n",
    "        LIMIT {limit} ;\n",
    "        \"\"\"\n",
    "query = QUERY_TEMPLATE.format(limit=QUESTIONS_SIZE)\n",
    "query_job = bq_client.query(query)\n",
    "rows = query_job.result()\n",
    "df = rows.to_dataframe()\n",
    "\n",
    "# examine the data\n",
    "df.head()"
   ]
  },
  {
   "cell_type": "markdown",
   "metadata": {
    "id": "j6022U1FWzpb"
   },
   "source": [
    "### Call the API to generate embeddings\n",
    "\n",
    "With the Stack Overflow dataset, we will use the `title` column (the question title) and generate embedding for it with Embeddings for Text API. The API is available under the [vertexai](https://cloud.google.com/python/docs/reference/aiplatform/latest/vertexai) package of the SDK.\n",
    "\n",
    "You may see some warning messages from the TensorFlow library but you can ignore them."
   ]
  },
  {
   "cell_type": "code",
   "execution_count": 6,
   "metadata": {
    "id": "pY8M4DqO8wGx",
    "tags": []
   },
   "outputs": [],
   "source": [
    "# init the vertexai package\n",
    "import vertexai\n",
    "\n",
    "vertexai.init(project=PROJECT_ID, location=LOCATION)"
   ]
  },
  {
   "cell_type": "markdown",
   "metadata": {
    "id": "jrG82n-y-EC5"
   },
   "source": [
    "From the package, import [TextEmbeddingModel](https://cloud.google.com/python/docs/reference/aiplatform/latest/vertexai.language_models.TextEmbeddingModel) and get a model."
   ]
  },
  {
   "cell_type": "code",
   "execution_count": 7,
   "metadata": {
    "id": "YVLHjSeOGoTu",
    "tags": []
   },
   "outputs": [
    {
     "name": "stderr",
     "output_type": "stream",
     "text": [
      "/home/jupyter/.local/lib/python3.10/site-packages/vertexai/_model_garden/_model_garden_models.py:278: UserWarning: This feature is deprecated as of June 24, 2025 and will be removed on June 24, 2026. For details, see https://cloud.google.com/vertex-ai/generative-ai/docs/deprecations/genai-vertexai-sdk.\n",
      "  warning_logs.show_deprecation_warning()\n"
     ]
    }
   ],
   "source": [
    "# Load the text embeddings model\n",
    "from vertexai.language_models import TextEmbeddingModel\n",
    "\n",
    "model = TextEmbeddingModel.from_pretrained(\"text-embedding-004\")"
   ]
  },
  {
   "cell_type": "markdown",
   "metadata": {
    "id": "FqdVsgZDb_hc"
   },
   "source": [
    "In this tutorial we will use `text-embedding-004` model for getting text embeddings. Please take a look at [Supported models](https://cloud.google.com/vertex-ai/docs/generative-ai/embeddings/get-text-embeddings#supported_models) on the doc to see the list of supported models.\n",
    "\n",
    "Once you get the model, you can call its [get_embeddings](https://cloud.google.com/python/docs/reference/aiplatform/latest/vertexai.language_models.TextEmbeddingModel#vertexai_language_models_TextEmbeddingModel_get_embeddings) function to get embeddings. You can pass up to 5 texts at once in a call. But there is a caveat. By default, the text embeddings API has a \"request per minute\" quota set to 60 for new Cloud projects and 600 for projects with usage history (see [Quotas and limits](https://cloud.google.com/vertex-ai/docs/quotas#request_quotas) to check the latest quota value for `base_model:textembedding-gecko`). So, rather than using the function directly, you may want to define a wrapper like below to limit under 10 calls per second, and pass 5 texts each time."
   ]
  },
  {
   "cell_type": "code",
   "execution_count": 8,
   "metadata": {
    "id": "8HUb9u_P2VWW",
    "tags": []
   },
   "outputs": [],
   "source": [
    "import time\n",
    "\n",
    "import tqdm  # to show a progress bar\n",
    "\n",
    "# get embeddings for a list of texts\n",
    "BATCH_SIZE = 5\n",
    "\n",
    "\n",
    "def get_embeddings_wrapper(texts):\n",
    "    embs = []\n",
    "    for i in tqdm.tqdm(range(0, len(texts), BATCH_SIZE)):\n",
    "        time.sleep(1)  # to avoid the quota error\n",
    "        result = model.get_embeddings(texts[i : i + BATCH_SIZE])\n",
    "        embs = embs + [e.values for e in result]\n",
    "    return embs"
   ]
  },
  {
   "cell_type": "markdown",
   "metadata": {
    "id": "aK4eTSPfcEuh"
   },
   "source": [
    "The following code will get embedding for the question titles and add them as a new column `embedding` to the DataFrame. This will take a few minutes."
   ]
  },
  {
   "cell_type": "code",
   "execution_count": 9,
   "metadata": {
    "id": "FcqPvu4PluN1",
    "tags": []
   },
   "outputs": [
    {
     "name": "stderr",
     "output_type": "stream",
     "text": [
      "100%|██████████| 200/200 [03:51<00:00,  1.16s/it]\n"
     ]
    },
    {
     "data": {
      "text/html": [
       "<div>\n",
       "<style scoped>\n",
       "    .dataframe tbody tr th:only-of-type {\n",
       "        vertical-align: middle;\n",
       "    }\n",
       "\n",
       "    .dataframe tbody tr th {\n",
       "        vertical-align: top;\n",
       "    }\n",
       "\n",
       "    .dataframe thead th {\n",
       "        text-align: right;\n",
       "    }\n",
       "</style>\n",
       "<table border=\"1\" class=\"dataframe\">\n",
       "  <thead>\n",
       "    <tr style=\"text-align: right;\">\n",
       "      <th></th>\n",
       "      <th>id</th>\n",
       "      <th>title</th>\n",
       "      <th>embedding</th>\n",
       "    </tr>\n",
       "  </thead>\n",
       "  <tbody>\n",
       "    <tr>\n",
       "      <th>0</th>\n",
       "      <td>72237772</td>\n",
       "      <td>Using an unstructured JSON column for Clickhou...</td>\n",
       "      <td>[0.005584510508924723, -0.0016118723433464766,...</td>\n",
       "    </tr>\n",
       "    <tr>\n",
       "      <th>1</th>\n",
       "      <td>72144965</td>\n",
       "      <td>How to search for specific fields in an array ...</td>\n",
       "      <td>[0.030631661415100098, -0.041769202798604965, ...</td>\n",
       "    </tr>\n",
       "    <tr>\n",
       "      <th>2</th>\n",
       "      <td>72219458</td>\n",
       "      <td>Is it possible to override yarn install to use...</td>\n",
       "      <td>[0.03585873171687126, -0.07397575676441193, -0...</td>\n",
       "    </tr>\n",
       "    <tr>\n",
       "      <th>3</th>\n",
       "      <td>72177068</td>\n",
       "      <td>Spring Boot - Gradle - No auto configuration c...</td>\n",
       "      <td>[0.010058541782200336, -0.012177125550806522, ...</td>\n",
       "    </tr>\n",
       "    <tr>\n",
       "      <th>4</th>\n",
       "      <td>72192987</td>\n",
       "      <td>How to configure caddy to deliver static file ...</td>\n",
       "      <td>[0.048588305711746216, -0.013091962784528732, ...</td>\n",
       "    </tr>\n",
       "  </tbody>\n",
       "</table>\n",
       "</div>"
      ],
      "text/plain": [
       "         id                                              title  \\\n",
       "0  72237772  Using an unstructured JSON column for Clickhou...   \n",
       "1  72144965  How to search for specific fields in an array ...   \n",
       "2  72219458  Is it possible to override yarn install to use...   \n",
       "3  72177068  Spring Boot - Gradle - No auto configuration c...   \n",
       "4  72192987  How to configure caddy to deliver static file ...   \n",
       "\n",
       "                                           embedding  \n",
       "0  [0.005584510508924723, -0.0016118723433464766,...  \n",
       "1  [0.030631661415100098, -0.041769202798604965, ...  \n",
       "2  [0.03585873171687126, -0.07397575676441193, -0...  \n",
       "3  [0.010058541782200336, -0.012177125550806522, ...  \n",
       "4  [0.048588305711746216, -0.013091962784528732, ...  "
      ]
     },
     "execution_count": 9,
     "metadata": {},
     "output_type": "execute_result"
    }
   ],
   "source": [
    "# get embeddings for the question titles and add them as \"embedding\" column\n",
    "df = df.assign(embedding=get_embeddings_wrapper(list(df.title)))\n",
    "df.head()"
   ]
  },
  {
   "cell_type": "markdown",
   "metadata": {
    "id": "nB53SiJjVN6e"
   },
   "source": [
    "## Look at the embedding similarities\n",
    "\n",
    "Let's see how these embeddings are organized in the embedding space with their meanings by quickly calculating the similarities between them and sorting them.\n",
    "\n",
    "As embeddings are vectors, you can calculate similarity between two embeddings by using one of the popular metrics like the followings:\n",
    "\n",
    "![](https://storage.googleapis.com/github-repo/img/embeddings/textemb-vs-notebook/8.png)\n",
    "\n",
    "Which metric should we use? Usually it depends on how each model is trained. In case of the model `text-embedding-004`, we need to use inner product (dot product).\n",
    "\n",
    "In the following code, it picks up one question randomly and uses the numpy `np.dot` function to calculate the similarities between the question and other questions."
   ]
  },
  {
   "cell_type": "code",
   "execution_count": 10,
   "metadata": {
    "id": "lKs6jSu7NiM6",
    "tags": []
   },
   "outputs": [
    {
     "data": {
      "text/plain": [
       "array([0.39210006, 0.39841182, 0.28786757, 0.2737002 , 0.34588409])"
      ]
     },
     "execution_count": 10,
     "metadata": {},
     "output_type": "execute_result"
    }
   ],
   "source": [
    "import random\n",
    "\n",
    "import numpy as np\n",
    "\n",
    "# pick one of them as a key question\n",
    "key = random.randint(0, len(df))\n",
    "\n",
    "# calc dot product between the key and other questions\n",
    "embs = np.array(df.embedding.to_list())\n",
    "similarities = np.dot(embs[key], embs.T)\n",
    "\n",
    "# print similarities for the first 5 questions\n",
    "similarities[:5]"
   ]
  },
  {
   "cell_type": "markdown",
   "metadata": {
    "id": "srM04lJBQp4w"
   },
   "source": [
    "Finally, sort the questions with the similarities and print the list."
   ]
  },
  {
   "cell_type": "code",
   "execution_count": 11,
   "metadata": {
    "id": "lTUVvj9FQlab",
    "tags": []
   },
   "outputs": [
    {
     "name": "stdout",
     "output_type": "stream",
     "text": [
      "Key question: Get key of value just saved in Dexie\n",
      "\n",
      "1.0000 Get key of value just saved in Dexie\n",
      "0.5308 Can we use delta command to get a difference between current & previous value which have the same unique id?\n",
      "0.5027 Firebase query for value inside an array that is in a document?\n",
      "0.4947 How do I update a key in an array of objects in MongoDB?\n",
      "0.4914 getChildren count in Firebase under a specific key, where a particular value exists\n",
      "0.4838 Invoke Expression while using iex in Elixir\n",
      "0.4791 How to retreive an object from an array of Objects in mongodb given a objectid\n",
      "0.4768 Middle ground between localStorage and indexedDB for quick and easy access of a complex object?\n",
      "0.4677 Can the function called by ScriptApp.newTrigger identify the triggerID?\n",
      "0.4646 How to pass argument using getx?\n",
      "0.4643 CryptoJS AES decrypt Hex String?\n",
      "0.4629 Middleware \"strapi::session\": App keys are required. Please set app.keys in config/server.js (ex: keys: ['myKeyA', 'myKeyB'])\n",
      "0.4607 Need to assign the correct value to each transaction based on a separate table\n",
      "0.4606 How to get the GroupInfoCollection.Key in the DataGrid_OnLoadingRowGroup eventHandler\n",
      "0.4530 EF Core - detect actual property value changes\n",
      "0.4527 How do I add files from form to Firebase database? Vue js + Vuetify + Firebase\n",
      "0.4471 Redis StackExchange LuaScripts with parameters\n",
      "0.4446 Selenium find element with variable value\n",
      "0.4442 Any way to force refetch when using endpoint \"initiate\" function of redux-toolkit\n",
      "0.4419 Create pandas datafram from string with key value pairs in Python\n"
     ]
    }
   ],
   "source": [
    "# print the question\n",
    "print(f\"Key question: {df.title[key]}\\n\")\n",
    "\n",
    "# sort and print the questions by similarities\n",
    "sorted_questions = sorted(\n",
    "    zip(df.title, similarities), key=lambda x: x[1], reverse=True\n",
    ")[:20]\n",
    "for i, (question, similarity) in enumerate(sorted_questions):\n",
    "    print(f\"{similarity:.4f} {question}\")"
   ]
  },
  {
   "cell_type": "markdown",
   "metadata": {
    "id": "S75SQzAg1wHV"
   },
   "source": [
    "# Find embeddings fast with Vertex AI Vector Search\n",
    "\n",
    "As we have explained above, you can find similar embeddings by calculating the distance or similarity between the embeddings.\n",
    "\n",
    "But this isn't easy when you have millions or billions of embeddings. For example, if you have 1 million embeddings with 768 dimensions, you need to repeat the distance calculations for 1 million x 768 times. This would take some seconds - too slow."
   ]
  },
  {
   "cell_type": "markdown",
   "metadata": {
    "id": "0sjhTy-a47YH"
   },
   "source": [
    "So the researchers have been studying a technique called [Approximate Nearest Neighbor (ANN)](https://en.wikipedia.org/wiki/Nearest_neighbor_search) for faster search. ANN uses \"vector quantization\" for separating the space into multiple spaces with a tree structure. This is similar to the index in relational databases for improving the query performance, enabling very fast and scalable search with billions of embeddings.\n",
    "\n",
    "With the rise of LLMs, the ANN is getting popular quite rapidly, known as the Vector Search technology.\n",
    "\n",
    "![](https://storage.googleapis.com/gweb-cloudblog-publish/images/7._ANN.1143068821171228.max-2200x2200.png)\n",
    "\n",
    "In 2020, Google Research published a new ANN algorithm called [ScaNN](https://ai.googleblog.com/2020/07/announcing-scann-efficient-vector.html). It is considered one of the best ANN algorithms in the industry, also the most important foundation for search and recommendation in major Google services such as Google Search, YouTube and many others.\n"
   ]
  },
  {
   "cell_type": "markdown",
   "metadata": {
    "id": "xVOL8BgM2isz"
   },
   "source": [
    "## What is Vertex AI Vector Search?\n",
    "\n",
    "Google Cloud developers can take the full advantage of Google's vector search technology with [Vertex AI Vector Search](https://cloud.google.com/vertex-ai/docs/vector-search/overview) (previously called Matching Engine). With this fully managed service, developers can just add the embeddings to its index and issue a search query with a key embedding for the blazingly fast vector search. In the case of the Stack Overflow demo, Vector Search can find relevant questions from 8 million embeddings in tens of milliseconds.\n",
    "\n",
    "![](https://storage.googleapis.com/github-repo/img/embeddings/textemb-vs-notebook/9.png)\n",
    "\n",
    "With Vector Search, you don't need to spend much time and money building your own vector search service from scratch or using open source tools if your goal is high scalability, availability and maintainability for production systems."
   ]
  },
  {
   "cell_type": "markdown",
   "metadata": {
    "id": "uBt8tjidSzyU"
   },
   "source": [
    "## Get Started with Vector Search\n",
    "\n",
    "When you already have the embeddings, then getting started with Vector Search is pretty easy. In this section, we will follow the steps below.\n",
    "\n",
    "### Setting up Vector Search\n",
    "- Save the embeddings in JSON files on Cloud Storage\n",
    "- Build an Index\n",
    "- Create an Index Endpoint\n",
    "- Deploy the Index to the endpoint\n",
    "\n",
    "### Use Vector Search\n",
    "\n",
    "- Query with the endpoint\n",
    "\n",
    "### **Tip for Colab users**\n",
    "\n",
    "If you use Colab for this tutorial, you may lose your runtime while you are waiting for the Index building and deployment in the later sections as it takes tens of minutes. In that case, run the following sections again with the new instance to recover the runtime: [Install Python SDK, Environment variables and Authentication](https://colab.research.google.com/drive/1xJhLFEyPqW0qvKiERD6aYgeTHa6_U50N?resourcekey=0-2qUkxckCjt6W03AsqvZHhw#scrollTo=AtXnXhF8U-8R&line=9&uniqifier=1).\n",
    "\n",
    "Then, use the [Utilities](https://colab.research.google.com/drive/1xJhLFEyPqW0qvKiERD6aYgeTHa6_U50N?resourcekey=0-2qUkxckCjt6W03AsqvZHhw#scrollTo=BE1tELsH-u8N&line=1&uniqifier=1) to recover the Index and Index Endpoint and continue with the rest."
   ]
  },
  {
   "cell_type": "markdown",
   "metadata": {
    "id": "6pu1a3zjfQ0D"
   },
   "source": [
    "### Save the embeddings in a JSON file\n",
    "To load the embeddings to Vector Search, we need to save them in JSON files with JSONL format. See more information in the docs at [Input data format and structure](https://cloud.google.com/vertex-ai/docs/matching-engine/match-eng-setup/format-structure#data-file-formats).\n",
    "\n",
    "First, export the `id` and `embedding` columns from the DataFrame in JSONL format, and save it."
   ]
  },
  {
   "cell_type": "code",
   "execution_count": 12,
   "metadata": {
    "id": "GzZ30d4j_uLU",
    "tags": []
   },
   "outputs": [
    {
     "name": "stdout",
     "output_type": "stream",
     "text": [
      "{\"id\":72237772,\"embedding\":[0.0055845105,-0.0016118723,-0.0667390153,-0.0165269598,0.0319954194,0.0160444826,0.0901361033,-0.0207528304,0.008507492,-0.0125314659,-0.008673057,0.0010713874,-0.0252336524,0.0464192964,-0.0100255404,-0.0174179878,0.0643504187,-0.0010960242,-0.0347361602,-0.0171252042,0.0035151253,-0.0125167444,0.0024735164,0.0013491334,-0.0410841368,-0.0121856853,-0.0004276923,-0.0114779025,0.0110516483,-0.015039444,0.0017424709,0.0456088595,-0.0207379311,-0.0618301742,0.0208061021,-0.003335156,0.0388664901,0.0867803097,0.0101535888,-0.0136623234,-0.0637819916,0.0075485515,-0.0051690307,0.0066047614,-0.0122937243,0.0186635554,0.0294069834,-0.0235761181,-0.0500657074,0.0397293903,0.0493367389,-0.0057984162,-0.0468193255,0.0027608857,-0.0611927621,0.0020525591,-0.0888531208,-0.0799488276,0.062933147,-0.0719758719,-0.0222776514,-0.0292104408,0.0349009,-0.0247181766,-0.0226742513,-0.0086115105,-0.0421068668,-0.0198584087,-0.111702323,0.0566732436,-0.00758579,0.0210502315,-0.0135333734,-0.0037512023,-0.0003269018,0.0497359075,0.0469391346,0.012684118,0.000310258,0.0270717144,0.0088656014,-0.0186489653,-0.0145210261,0.0025504914,-0.0053482642,0.0225183517,-0.0624811761,-0.0230036695,-0.038567666,-0.001061434,0.0964773521,-0.0113227144,0.0176018998,-0.0086579686,0.0083118873,-0.0564457737,-0.0920780376,-0.1123483479,0.0521140881,0.0250374507,0.0018627022,-0.0098669427,-0.0022070778,-0.0425255708,0.0080542546,-0.0069365669,-0.0380810983,0.0027419247,-0.0124041792,-0.0011723783,-0.0094620297,0.0265348349,-0.0116757127,0.0373109914,-0.018655058,0.0125809098,-0.0271103531,-0.0066466085,-0.0370043628,-0.0580156185,0.0547631308,0.0387675725,0.0211371798,0.0356389284,0.0359909907,0.019982364,0.0265892409,0.0005236446,-0.0423964188,-0.034051314,0.0140395239,-0.0077037113,0.0199901871,-0.0006660044,0.0104753338,-0.0417779572,0.018972259,0.0277199075,0.0561858565,-0.0033416292,0.0160177313,0.0356347226,-0.0334553979,-0.0110845342,-0.0363926329,-0.0743472353,-0.0017923971,0.0874081403,-0.0621103123,0.0262829494,-0.0414650515,-0.0167066474,-0.0831118003,-0.0085608391,-0.0651633292,0.0579212867,0.0059868214,-0.0075991941,0.0452625044,0.0632208958,-0.0237708762,-0.0130981719,0.007232741,0.0426939353,0.0204692576,-0.0165214669,-0.0266532749,0.0361106992,0.0256949048,0.0630568191,0.0378624499,0.0080069136,-0.0115606468,0.0059218029,0.0364383683,0.0098291263,-0.0534448363,-0.0862675682,0.0156391263,0.0455600284,0.0573778003,0.0181914158,-0.0122650201,-0.0271080695,0.069014892,0.0526832305,-0.0205808096,0.0386579186,-0.011993384,0.015901126,-0.0257176962,-0.0279007647,0.0043078274,0.0179062877,-0.0495686382,-0.0509771928,-0.0230276641,-0.0270604286,-0.0216822438,-0.0289062727,0.0475837886,-0.0649773329,0.0135420682,-0.0432439744,-0.0492516346,0.0019851751,-0.0419945009,-0.0291371848,0.0212758724,0.0292998701,-0.0146979699,-0.0232357159,0.0293356627,-0.0558823943,0.0373716578,0.0154862227,0.0435324572,0.0427844338,0.0582965575,-0.0003673665,0.0455043837,-0.0102167446,-0.0297314152,-0.0085951528,-0.0833326802,0.0036754329,-0.0480778702,0.0306233354,-0.0686709732,-0.0328045674,0.0022260498,-0.0120217195,0.0249115471,0.0395029783,0.0006554393,0.0325466432,0.0157444105,-0.0333644524,-0.02297589,0.0316763744,0.0091137448,-0.0334967598,-0.0128334546,0.0697752684,0.0272482224,-0.0057183593,0.0259715933,0.0422891714,0.0929566249,-0.0060790847,0.0194109809,-0.0266110767,-0.0492720753,0.0134926923,0.0621812008,-0.0260498766,0.0132530304,0.0060116802,0.0000833304,0.0078763673,0.0170839634,0.0015517258,-0.0162425116,-0.0071096723,0.0005270004,-0.0442598127,-0.0133445924,-0.040927697,0.0006300011,-0.0364919305,0.0409534536,-0.0194349252,-0.0457208604,-0.0348075777,-0.046923466,0.0527211651,-0.0004028075,0.000540401,0.0016089233,-0.0521577932,0.0357785597,-0.0525019579,-0.0169508941,-0.0203888919,0.0152861401,-0.0470345914,-0.0795873478,-0.0235395003,0.0015132373,-0.0121375853,-0.0187651515,-0.0318324119,-0.0251204707,-0.0193172731,0.0342329964,0.0134669198,0.034260381,0.0462941155,0.0187954158,0.0307866689,0.0397894382,0.0394826978,0.0158179961,0.0580071509,0.008665476,0.0243072491,0.0275688563,0.0583902523,0.0437520705,-0.024312105,0.0465335213,-0.0958566517,-0.0539579242,0.0264702663,-0.0530340895,0.0581873767,-0.1037963033,-0.0063948366,-0.0035284874,-0.0316048786,0.009070755,0.0376177132,-0.0285938494,-0.0021267079,0.0601764992,-0.0090372972,-0.0467057303,0.0066753398,0.0365913808,-0.0259885658,0.0729308724,0.0030775326,0.0142508773,-0.005968553,0.027428275,0.0348577537,-0.0193445142,-0.006251784,0.0916593745,-0.0441959426,0.0282117072,0.0159694757,0.0444472618,-0.0160196666,-0.016990412,0.0038764763,-0.049795147,0.0476297252,-0.0178226344,0.0803019777,-0.0056948182,-0.0028957999,0.0127773192,0.0087576322,-0.0073234043,0.028332321,-0.0067567993,0.0273213033,0.048878748,-0.0603874214,-0.0218189359,-0.0435337648,-0.0000077404,0.0155926971,0.0051320158,-0.0157118756,0.0211222582,0.052746892,-0.0327084735,-0.053513404,-0.0497502163,-0.0309357084,-0.0128318127,0.0101251258,0.0119031416,0.0059412052,-0.0024695522,-0.0101049263,0.0639201775,-0.0385974161,-0.0062347464,-0.0261425935,0.0380599461,0.0102611147,-0.0226369761,0.0467780605,-0.0346858352,0.0158819221,0.0172773246,-0.0636021718,-0.0776674077,0.0226745605,0.0431995504,-0.00802832,-0.0177426487,-0.0045702928,0.0096948715,-0.0024529484,0.0440735742,-0.0282360204,-0.0770341158,-0.0532473885,-0.0192655958,-0.0240198281,0.0009044256,-0.0218570754,0.0508629121,0.0023151205,-0.0154092601,0.0276149511,0.0263028257,0.0078424457,-0.0163008031,0.047418613,0.0643383637,-0.0379255749,-0.0080987057,-0.0675603375,0.0068942895,0.0031030157,0.0559705831,0.0284661055,0.0397330709,-0.009937997,0.0124932416,-0.0779689103,0.0115460074,-0.0050230576,-0.0382294469,-0.0337637588,0.0862561017,-0.0100478902,-0.0622227341,0.0443091318,0.0019080359,0.068843931,-0.0201682728,-0.0299030952,-0.0230525229,0.0473761521,0.053947404,-0.0153105045,0.0706034154,0.0406416878,0.0022596312,0.1255557537,0.0217265449,-0.0165871717,-0.0032442284,-0.0212861951,-0.0275116395,0.0192535352,0.0520645157,-0.0397550277,-0.0310886912,-0.009073386,-0.0166253559,0.0321988873,-0.0217551552,-0.0216912702,0.04898341,-0.0527540222,0.0146586411,-0.0157857724,-0.0049338788,-0.028754469,-0.0364510641,0.015608171,-0.0010542582,-0.022426825,-0.0023830496,0.018594889,-0.0602424107,0.0281928424,-0.0529340319,0.0365331732,0.012625833,-0.03648258,-0.0332812406,-0.0630589128,-0.0192327648,0.0329680853,-0.0514190979,0.0072061806,0.0107674422,-0.0180383604,0.0274684615,0.0233334955,0.0459530875,-0.0215824693,-0.0174489096,-0.0179814585,-0.0394882709,0.0133245643,-0.0168956164,-0.0294432715,-0.0125080142,-0.0292878896,-0.0151903704,0.108320564,0.041867394,0.0040525454,0.020696532,-0.0964683369,-0.0100593772,-0.0386354029,-0.0041892729,0.0584235564,0.0260270424,-0.0562387854,0.0667842925,-0.0055274782,0.0152565809,0.0065506976,-0.0031105338,0.0267947242,0.0138766505,-0.0653180555,-0.0393329151,-0.0045056632,-0.0748471543,0.0143592907,-0.0116386553,-0.0132739628,0.0046664155,0.0023753755,0.0289528463,0.0109367259,-0.0103520537,0.0145501755,-0.0322031416,0.0396776609,0.0645835027,-0.0274918471,0.0299591068,-0.0192250833,0.0211054664,0.0310953315,-0.015186171,-0.0046226084,0.0145883532,0.0341892019,0.0000177646,0.0096322512,0.0174216516,0.0242899582,0.0093810037,0.0404550247,0.0093215285,0.0741351619,-0.0715991035,0.0268384423,0.0056552212,-0.0170097351,-0.0081891324,-0.0572576299,-0.0291185919,0.0102375112,0.0314226411,-0.016390834,-0.0176358577,-0.0278788731,-0.0278663803,0.0176660288,-0.0267766416,0.0603013933,-0.0636279508,0.0499936789,-0.0158099215,0.0080537042,-0.003869527,-0.0462287404,0.0241925325,-0.0547114462,0.0051519633,-0.0023817273,-0.0505000576,0.0349776894,-0.015547826,0.021302538,0.005674459,-0.0198813062,0.0274958871,0.0112011079,-0.0196328051,-0.0264132973,0.0219616704,-0.0038012951,-0.0645070449,-0.0104198344,-0.0263778958,0.0070442362,0.0079700211,-0.0028609233,-0.0432468206,-0.0315501913,-0.0570554845,0.008288417,0.0618906133,0.0045178155,0.0092049288,0.0043031685,0.1069724038,0.011546596,-0.0268077347,-0.0524002761,-0.0118060792,-0.0517100506,-0.0370309055,-0.0083127525,-0.000228616,0.0134979943,0.0145142339,-0.0353743508,-0.0559498332,0.0148429591,-0.0041515995,-0.0127799492,-0.0140234809,0.0262137335,-0.0237843711,-0.0111949062,0.0046089133,0.0527124405,0.0098674959,0.014218458,-0.003801245,-0.0102715176,0.0913183615,0.0085229985,0.0404836871,-0.002032547,-0.0034545702,-0.0662998632,-0.0119443359,-0.026686579,-0.0035937671,0.0065134657,0.0141731827,0.0006416633,0.0452454165,-0.0172351487,0.006806382,-0.0780955404,-0.041303467,0.0934166387,-0.0137559539,-0.0359613113,-0.004142304,0.0402507484,0.0134891812,0.0809013993,-0.00155655,0.0064537791,-0.0477156937,-0.0201550853,-0.0462147668,-0.0807569027,-0.0009209012,0.0207668319,0.012295587,-0.0051139859,-0.0187377892,0.0277684238,0.0550644845,0.0107794171,-0.0095288055,0.0060787797,-0.0078910701,-0.0446392074,0.0220057517,0.0096009737,0.0316456035,0.00732014,-0.0077746185,0.0211551376,0.0376684852,0.0129648829,-0.0078798439,0.0285609849,0.0384772606,-0.0283929501,0.0088107139,-0.0151011115,0.047429502,-0.0298349857,-0.0002438974,-0.0199679676,0.0085850684,-0.0061383168,-0.010836401,-0.0509458892,-0.0459988117,0.0204967074,0.022009166,0.0523273498,0.005084062,0.0231355503,-0.0344972983,-0.0639055669,-0.011100498,-0.0152786747,-0.0402789637,-0.0455942713,0.0070345034,-0.0331353061,0.0622351654,0.0310434196,-0.0187965613,-0.0066595087,-0.0881462321,0.0486977622,-0.0174306575,0.0106047178,0.0199673008,0.0021711891,0.0128663126,0.0609304942,0.0597028174,0.0610768758,0.0264436658,-0.0252097696,0.0800271183,-0.0207189415,-0.0217707623,0.0282607805,-0.0210953727,0.0353207476,-0.0066918097,0.0098864278,-0.0438190624,-0.0309033152,-0.0123536941,0.0228113215,-0.0461659469,0.0330723189,-0.013513891,-0.0009403796,0.0027571633,0.0082375882,0.0297307204,-0.063892521,-0.0510817207,-0.0167848077,0.0103791179,0.0156583805,-0.00035471,-0.0276978053,0.0132278213,-0.0243968759,-0.0621528476,-0.01695255,0.0145406481,0.0641177297,-0.0276136715,-0.0020854035,0.0566522144,-0.0099827833,0.018655315,-0.0271261893,-0.0238015763,0.0284132324,0.0093164193,-0.0120864483,-0.0133460145,-0.0182698164,0.0194633231,0.0248375293]}\n",
      "{\"id\":72144965,\"embedding\":[0.0306316614,-0.0417692028,-0.0839070082,-0.0402760357,0.0328211412,0.011172073,0.0805632323,-0.0107751582,0.0409074388,0.0119309258,-0.0244088601,0.0265965369,0.0069329026,0.0338058136,0.0079763373,-0.0525796078,0.0242943894,-0.0290474929,0.0223552529,-0.0068193949,-0.0414728448,0.0175893083,0.0041324622,-0.0016654573,-0.0121652149,-0.0569910705,-0.006890995,-0.0190357715,0.0369414166,0.022881113,0.043465618,0.0176901165,0.0308143646,-0.0178660415,0.0299464315,0.0198037513,-0.0167410187,-0.0039722431,0.042688854,0.0178608093,-0.0168673359,-0.0639606863,-0.0067003178,0.0387285799,0.0034159615,-0.0551245622,-0.0687931255,0.0357946754,-0.0448882356,0.0021523507,0.0301417671,-0.0092038745,0.0539788008,-0.0347665846,-0.0097175632,-0.0354867578,0.002632397,-0.0215436276,0.0515184253,-0.0307700634,0.0209868811,-0.0009049096,-0.05888623,-0.0323677696,0.0171223972,0.0068611871,-0.0231689047,0.0115198158,-0.0353177972,0.0434829816,0.0145137236,-0.0303957313,-0.0706645101,-0.0181661099,-0.0474277474,-0.0130533502,0.0262124557,0.0359816551,0.0420646407,0.0108747762,-0.051171463,0.0455146842,0.0186411683,0.0196545608,0.0196493156,0.0191894006,-0.0396877676,-0.0595800653,-0.0034035891,0.0219536107,0.0818123594,0.0135111231,0.0296909455,0.0181629639,-0.0043798448,0.0044542602,-0.0430729762,-0.0018095648,0.0265104193,-0.0131819583,-0.0107234763,0.0102612181,0.0128726671,-0.075433068,0.0446623154,-0.065617837,-0.0229063611,0.02054088,0.0131821353,0.0410199761,-0.0032646367,0.0364963487,0.0115128607,-0.0284392815,-0.0548034981,0.0293265507,0.0660496727,-0.0219880063,-0.0302240625,-0.0153034646,0.0238406323,0.0559631772,-0.0098524475,0.1008161902,0.0356589332,0.0117183318,0.068670772,-0.0316070989,-0.0291164014,-0.021615589,0.0620604455,-0.0008442621,-0.0418206006,0.0475243889,-0.0180310346,-0.0559984855,0.0441299602,-0.0420605019,0.0280323885,0.0012162122,-0.046508424,-0.013127842,-0.0554182827,-0.0022644219,0.0386777222,-0.0428724997,0.0249272082,0.0424826741,-0.0112570804,0.0386675075,-0.0084767845,-0.0585942455,0.0041568927,0.0392409936,-0.0113869952,-0.0113228364,0.0040202951,0.0151293902,0.055549372,0.0208954699,-0.0160418134,-0.0253320597,-0.0056333514,0.0446931496,0.0036543128,-0.0590353832,-0.0049225367,0.0664631054,0.0254404955,-0.0195375606,-0.0300565343,-0.0354690365,-0.0568676852,-0.049810499,-0.0223305617,0.0191683769,-0.0139693525,-0.0342386551,0.0334009603,0.0083344514,0.0373477899,0.0048750699,-0.0163797382,-0.0477090441,0.0014511974,-0.0296338592,0.0165073816,0.0964299813,0.0090691028,0.0508960076,0.0131880818,0.0121725202,-0.0021273824,-0.0026835972,-0.0917812586,-0.0314997584,-0.0445764922,-0.0825395584,-0.0015828297,-0.0322220922,0.0476464815,-0.0078950915,-0.0326222032,0.0071178442,-0.0083730668,-0.055137936,-0.0327694453,-0.0057097031,0.0566641688,0.0638377219,0.0007683546,-0.020286778,0.0270808581,-0.0470469967,-0.0215152632,-0.0136951534,0.0334423371,0.0177564435,0.1083826274,0.0281759072,0.0681955516,-0.0290614553,0.0150028802,0.070059523,0.021819368,0.0021547466,-0.0323118977,-0.0230421033,-0.0500957072,-0.0332396477,0.0674654245,-0.0156899747,0.0036721036,0.0167492777,0.0140064089,-0.0108603612,0.0562650301,-0.0969561115,-0.029631054,0.0615530238,0.0083003053,0.0101979459,0.0116287433,-0.0290091913,0.0463350825,-0.0218548924,-0.0227659401,-0.0122662699,0.0283311084,0.0101515949,0.0107488949,-0.0255927444,-0.0063243159,0.0573681109,-0.000961212,-0.0057398709,0.0115732923,0.0017253017,0.0202658549,0.013256588,-0.0129700154,-0.0772265941,-0.0355310477,-0.0110759074,-0.0074047162,-0.0302005634,-0.0389062613,-0.0315240137,0.0001780931,0.0106458291,-0.0039335364,0.025214741,-0.0469136313,-0.0153660495,-0.0465731397,0.0465196222,-0.0292469133,0.0572490282,-0.026795933,0.0247620065,0.0099568581,-0.0115036927,0.0233594403,-0.0341498069,0.0571336858,-0.0517170131,0.0003331227,0.0351007283,0.0104465159,0.019739449,-0.0017184214,0.0331149101,-0.0445396639,-0.0408311486,-0.0288366675,-0.0023691854,0.090262562,0.0072462419,0.0352063589,-0.013716924,0.0840933248,0.0365267284,0.0102509754,0.0792926699,-0.0364159495,0.0001152266,-0.0349528752,0.019585358,0.0134639284,-0.0335721448,0.0417577587,-0.0068252976,-0.0192943215,-0.0096815228,-0.0167980604,-0.0266137309,-0.0679506809,-0.0664139241,-0.0449163988,0.0222826377,0.0126351006,0.0006437397,-0.0092836432,0.0190684758,0.0045679077,0.0153355254,0.0278480854,-0.0385616831,0.0051897988,0.0414046161,0.0239392538,-0.0550695397,0.025763521,-0.0348937511,-0.0322397798,0.0317219123,-0.0180838518,0.0137560489,0.0358679481,0.025983436,0.0742367506,0.0229657516,0.0366919301,0.0545323566,-0.0020054991,-0.0363978669,-0.0322542973,0.0661498904,0.0275615975,-0.0385005102,0.0691392496,0.0093653295,0.0309394319,-0.0233190618,-0.0216580573,0.0392625891,0.0380012617,0.000129407,0.000124902,-0.0173549168,-0.0085274223,-0.0136129512,0.0454196148,0.059993986,-0.0066935089,0.0269440748,0.0157446638,0.0246960558,-0.0431834012,0.0364501849,0.0226430632,-0.0040286453,-0.0395058356,-0.0102375811,-0.0117257908,0.0217400678,0.0301487427,-0.0075606271,0.0176629536,-0.0447585434,0.0029947602,-0.0258665774,0.0440457053,0.0169372167,-0.0052723251,0.0545694754,0.002977516,-0.010630494,-0.0532147139,-0.0299095847,-0.0532096848,-0.0103354827,0.0339136161,-0.0229145978,-0.0548767261,0.0658299774,0.0161539838,0.0471394025,0.0225807186,0.0074641393,0.0289106499,0.0040466157,-0.0152459657,-0.0091160508,-0.0321504287,0.0365279317,0.1032371968,-0.033566948,0.0370632187,0.0569913462,0.0476612747,-0.0270503443,-0.0260389429,0.0230427347,0.0538377427,-0.0114021925,-0.0016476352,0.0088998936,-0.0219050646,0.0835750848,0.0249483455,0.0168359373,0.0875357166,-0.0081509473,-0.0206810478,-0.0110205458,0.0206988342,-0.0080188895,0.0405209251,-0.0481308773,0.0514095426,0.0388545766,-0.0131131327,0.0923921987,0.0168421064,0.0211234353,0.0601149723,-0.0453185886,0.0215379279,0.0080708042,0.0439377576,-0.0116124637,0.0577650741,0.0454683155,0.0061737406,0.0064569009,-0.0090499716,-0.0489407443,-0.0423138738,0.0140897799,0.0163579788,-0.0067823608,0.0297053438,-0.0182869937,-0.0948883072,-0.0176566765,0.0075036623,0.029431412,0.0004718761,-0.0069401916,-0.019351989,-0.0288667306,-0.0051713474,-0.0022647704,0.0180466007,-0.0015811045,-0.025182277,-0.0639816299,0.0095879156,-0.0567184836,0.0262684096,0.0312631167,-0.0231087524,0.0409979373,-0.023700878,0.0252566338,0.0411147326,0.0203146692,-0.0189975165,-0.0209650379,-0.0432781205,-0.0045075086,-0.0204688292,0.0020223837,-0.0320491046,-0.0142380763,-0.0311559979,-0.0131148715,-0.0051635187,-0.0716844052,-0.009230339,-0.0342279561,-0.0720096454,0.0154538415,-0.0271857269,-0.0131162237,0.0546400957,-0.0074585956,0.0327322669,0.0465742499,-0.0077652726,0.0491530746,0.0165183526,-0.0528139398,-0.0616406016,-0.0345669761,-0.042711515,0.0454106815,0.0167117622,-0.0049319249,0.0266960673,-0.0159395337,0.0256551448,-0.0090459595,0.0254923161,0.0355089158,-0.0259266291,-0.0095228991,0.0064861686,0.0106760468,-0.0069292607,-0.0588810593,0.0242721662,-0.0043053743,0.0036020004,0.0230873302,-0.0594234206,0.0007511625,0.0504827425,-0.0086440956,-0.0187258758,0.0711683482,0.0663062409,0.015151646,0.031041909,0.0441399328,-0.0218955148,-0.0188258421,0.0054644281,0.0027572454,0.0280497894,-0.0243757255,-0.0022103342,-0.0031980828,0.0949865058,-0.0234467518,-0.0276501551,0.0534443781,0.0321924314,-0.0086626383,0.0130433096,-0.0501647778,-0.0402049683,0.0587259308,-0.0312154647,-0.0357435085,0.0049537793,-0.037166208,0.0382659398,0.0070483922,0.0622935407,-0.0480782054,-0.008898844,0.0007298545,-0.0644876584,0.0278702211,-0.0693295076,0.0382224433,-0.0352813192,0.0179873351,-0.0119545208,-0.0233401395,0.0187640488,-0.0039304756,0.0178449545,-0.0170222092,0.0022309031,-0.0193184838,-0.0107949385,-0.0621827915,-0.0869427249,0.0119944019,0.1044323593,0.0241114292,-0.0534583032,0.008270395,0.0240406133,-0.0002294497,-0.0015868783,-0.0028956847,-0.0054856068,-0.0223716646,0.0127419997,-0.0415803567,0.051975403,0.0062681949,0.0201886091,0.0221663844,-0.0005212147,-0.0144795664,0.0495974943,0.0065064882,0.104648076,-0.0605073869,-0.0230530221,-0.100373663,-0.0159271061,-0.0853649378,0.0373535417,-0.0064153993,0.0010526937,0.0713097081,-0.0006595632,-0.0197097939,-0.0826908424,-0.0210736804,-0.022568576,-0.0107044214,0.0359109454,0.0381306447,0.0331030861,0.0111876195,0.0524451025,-0.0148751754,0.0158432703,0.0350975022,0.057940919,0.0230643023,0.0961751118,-0.0174023211,0.0088152187,0.0386350453,-0.0058444571,-0.0415109433,0.0163531452,-0.042374894,-0.0129267592,-0.0074943975,0.020155061,0.0012182026,-0.0259862859,0.0609008856,-0.0015373166,-0.0296460818,-0.0669886991,0.1112248227,0.0287100319,0.0463000834,0.0551677682,0.0169416461,0.0029736185,0.0149455238,0.0134344539,0.0616842993,-0.0119608482,-0.0046886955,-0.0211314727,0.0042608571,-0.0403249599,-0.0074872985,-0.0201180875,0.0062795924,-0.0167759098,-0.0467209853,-0.0181386489,0.0175299458,-0.0645650551,0.0013990133,-0.0228512418,0.0122417072,0.0129189733,0.0026521536,0.0092907799,0.0593360141,-0.0292221028,-0.0060056183,-0.038341973,-0.0445017144,0.0533619896,-0.013286951,-0.023114441,-0.0028797344,-0.0026719677,0.0149022536,0.0105385398,-0.0082739051,0.0346315205,-0.0444849543,-0.0339353383,0.0135523034,0.0451222695,-0.0270127617,-0.0374121293,0.056171108,-0.012623203,-0.0150427911,-0.0492149591,0.0179690532,-0.0475807376,0.0161245447,0.0308457501,0.0296631586,0.0331698582,-0.043717809,-0.0057099904,-0.0031520291,-0.0113060074,0.0431957319,-0.0038780475,-0.0281807743,-0.0107854968,-0.0105225323,0.0367581025,0.0064563579,-0.0385121293,0.0365236476,-0.0751667246,0.0787471458,0.000635403,0.0011291904,0.004699483,-0.0276236888,0.0537940115,-0.041155953,0.0172825791,-0.0046784221,-0.0232701991,-0.0235389043,0.0078474246,0.017692361,-0.0001929775,0.0201064572,-0.0400318652,0.0057932939,-0.0004864472,-0.0126174893,-0.0033007679,-0.0334449075,-0.0140494378,-0.030403208,0.0099206166,-0.0360822678,-0.0679712445,-0.0423596092,-0.0136544295,0.0084380694,-0.0177515857,-0.0473905466,-0.0010373793,-0.0026977996,-0.0686763227,-0.0741600096,-0.0103680799,-0.0179381818,0.0114848027,0.0137122739,0.0117870886,-0.0312531963,0.0036577231,-0.0242553465,0.0016517142,0.0422296748,-0.0353906155,0.0416083746,-0.0150062628,0.0284046363,0.1061517,0.0029000612]}\n",
      "{\"id\":72219458,\"embedding\":[0.0358587317,-0.0739757568,-0.0408067703,-0.0244403183,0.0413211472,0.02598265,-0.0027475373,0.0000082269,0.0215519872,-0.0291094668,0.0276015922,0.0483466089,-0.0453835391,0.004181698,-0.035960827,0.027710123,0.0282561891,0.0331357829,-0.0243598223,0.0009922227,0.0238720365,-0.0207293648,-0.0214022659,0.0304506812,0.0004308823,-0.0141666206,-0.018543778,-0.0625858232,-0.0142916217,-0.0608225055,-0.0717710629,0.0630469099,0.010480402,-0.0268576648,-0.0083879093,-0.0384157896,-0.0326265469,0.0443261899,0.0501408465,-0.0044314163,-0.0689718351,0.0031912641,-0.0335303247,0.0361662991,0.0636251196,0.0174147561,-0.0140459267,0.0391210467,0.0183759835,-0.0372285731,0.0438349396,-0.0150611736,-0.0578012392,0.0339457691,0.0170647055,0.0173592083,-0.0227389112,-0.0563367754,0.0464126468,0.0311757606,-0.0124761704,-0.0223475229,-0.0284655299,0.0068382211,0.008104939,-0.0489551835,-0.0496405996,0.0050654626,-0.0510187447,0.014435973,0.0151038794,-0.0708125681,-0.0120420717,0.0118645225,0.0856975541,0.0316944756,-0.0205329042,-0.0612796657,0.0035872639,0.0043105688,0.0324297957,0.0585022122,0.0635910481,-0.043743372,0.0256898906,-0.032972984,-0.0207616687,-0.0049505737,0.0341018103,-0.0585193448,-0.0038583837,0.0501218699,0.0532113761,-0.0099022258,0.0030473135,-0.0058025541,-0.072411254,-0.0349721685,-0.0148187485,0.0081717195,0.014891373,0.0173985045,0.022602452,-0.0951024741,0.0259853639,-0.0060576792,-0.0277370568,-0.0263307914,-0.0447945744,0.059403304,0.0422891118,-0.0031888003,0.0771443844,0.0129361618,-0.0389146842,-0.0551930144,0.0551354438,-0.0105819069,0.0723600164,-0.0462958477,0.025409719,0.0405985527,0.0332531147,0.0716968104,0.0361143239,0.0161391627,0.0326497518,-0.0072796927,-0.0683357939,-0.0404718406,0.0872850344,0.0248624701,-0.025289014,0.012091808,0.0250113942,-0.090244621,-0.023747731,-0.0347970426,0.0991653875,0.0300465394,0.006603532,-0.0099461684,-0.0986110941,0.0273327641,-0.0183642562,0.0123657286,0.0336131305,0.0379655734,-0.0014995905,0.0291875899,-0.0241588056,-0.0423189625,0.0299250372,0.0019050187,0.0047484841,-0.0259695183,0.0274945796,-0.018071048,-0.0062230933,-0.0607817061,-0.0037398487,-0.0260128137,0.1032431945,0.0038441753,-0.0556488782,-0.0202816017,0.0093045998,0.0159377903,0.0210890993,0.059710227,-0.0131627163,-0.0350945219,-0.0028503889,-0.0830494761,-0.0713185295,0.0573753826,-0.0024933608,-0.0307748821,-0.0237577874,-0.0447454229,0.0444384851,-0.0021708261,0.0393669456,-0.0631100908,0.0480055064,-0.0309920777,0.0192869678,-0.0210655555,0.0893753991,-0.0396256037,0.0403425246,0.0556677468,0.0196247958,0.0416359939,-0.0417192541,-0.0344371051,0.0024950765,-0.011153114,-0.0410922877,-0.0124827195,0.0039484678,-0.0548223257,0.0016098096,-0.0349889509,-0.0466806442,-0.008210483,0.0227704011,-0.0210633669,0.0358767584,-0.0239677392,-0.0596083291,0.0071273069,-0.0379959084,-0.0678536445,-0.020033231,-0.012848,0.0563085489,0.0310843643,0.0258586779,-0.0450011007,0.0257635899,-0.00710769,0.0070618419,0.0001360886,-0.0025704524,0.0177975465,-0.0081753461,0.0157124028,-0.0168325845,-0.0223365836,0.0031363566,0.0361203067,-0.0133605991,0.0800324082,-0.0075980551,-0.0020908241,-0.0220448878,-0.0215309951,-0.0036331918,0.0173920523,-0.0232883114,-0.0031434144,0.0130457357,0.0117674191,0.0242837444,-0.0123674748,-0.0011146301,-0.0198804233,0.0456725657,-0.0484229811,0.0669232532,-0.0541539788,0.0216021556,-0.0207702909,-0.032737907,-0.0972928256,0.065555729,0.0477217138,0.000410188,-0.018375989,0.0165130086,0.0452498682,0.0341866761,-0.0276106577,-0.060552381,-0.0668556839,0.0191207007,-0.0555532873,-0.0012850801,-0.0217107106,0.0311424434,-0.0094010215,0.0031557023,-0.0293702856,-0.0634807274,-0.010462286,-0.0625926033,-0.0236989371,0.0188690946,-0.0003445031,0.0090738013,-0.0227159038,0.0349245332,0.0034333223,0.0095487181,-0.0255308654,-0.0080983173,0.0062592705,0.0068410342,-0.0467264503,0.0328929685,0.0046147699,0.0005454525,-0.0929920673,-0.0239107572,-0.031409122,-0.0379931219,-0.0214359146,-0.0070945569,-0.0465782881,0.0219626091,0.0101628238,-0.0245096628,0.0745951012,-0.0400149338,0.0345221199,-0.0078630559,0.0039667608,0.0223292839,-0.021815272,0.0401517972,-0.0333706811,0.0024432605,0.022789197,-0.0080134962,-0.0162481852,-0.1122078001,-0.0337921083,-0.0576435775,-0.0240862146,0.0670786425,0.0380645357,0.0147066675,0.030832151,-0.1015314385,-0.0055003241,0.0057312334,0.0202296935,-0.008241877,0.0126447184,0.1022861227,-0.0106265619,-0.0060137976,-0.0040621567,0.0335835591,0.055622302,-0.0479912907,0.0574849956,0.0146047063,0.0316077434,-0.0376146659,-0.0122018978,0.05589775,0.0026622103,0.0156486277,-0.0946854129,0.0049282094,-0.0413339995,-0.0047747325,-0.0160734188,-0.0354778841,0.0242195576,-0.0446114503,-0.016056262,-0.0156411715,-0.026601959,0.0257745422,-0.0015662224,0.0206529032,-0.0022190062,0.0028418177,0.0293624382,0.0061493097,0.0465352423,0.0461933352,0.0189237986,0.0133333905,0.0168754887,-0.0887524709,0.0019064663,0.0344088301,-0.0172046777,0.0060371831,0.005836728,0.0529569089,-0.0114641059,0.0163637362,0.0580490157,-0.0368405655,0.0067527015,-0.0114934947,0.0367867053,0.0138264466,0.0550140738,-0.0049782544,0.0619025305,-0.0117040705,0.0405740552,0.0372139253,-0.0263494402,-0.0514712557,0.0317860544,-0.0486659482,0.0098943319,-0.0323923491,-0.013353142,-0.0243841577,0.0278386846,0.0306319185,-0.0255141277,-0.0744541436,-0.0378874205,0.0014578757,0.0218340568,0.0294911191,0.0140752457,0.041973494,-0.0029966447,0.0666925088,-0.024100028,0.0151867401,-0.0039326842,-0.0462921672,0.01445085,-0.0512523279,-0.0078008445,0.0084142368,-0.0124320034,-0.039988786,0.0191397034,-0.0250954889,-0.0482028946,-0.0311788768,-0.023279557,-0.0037599427,-0.0779868439,-0.0314752534,-0.0975952521,0.0238297135,-0.0413775407,0.0565631464,0.005996902,0.0015391432,0.0268521942,0.0304037444,0.0324252509,0.0101047736,-0.0409530252,0.0191880781,-0.0092586083,-0.0241169278,-0.0029074263,0.0801834017,0.0294708982,-0.0345935449,0.0404492617,-0.0436330102,0.0071213902,0.0358248837,-0.0055911844,-0.0122738238,-0.0062221386,-0.0098470515,0.0146266641,-0.0519631468,0.0535028428,-0.0572644919,0.018460881,-0.0174757093,-0.0127345687,-0.0062340177,-0.0025908891,0.0200632811,0.0243123174,0.003602877,-0.0685602874,-0.0300117694,0.0392975099,0.1005199477,0.0037020757,-0.0683320388,0.0269434452,0.0291229133,0.0048907753,-0.0512148626,0.0165341441,-0.004311766,-0.0091819298,0.008322387,-0.0325766057,0.0378843993,0.0550723188,-0.0051483335,-0.053512603,0.0054621869,-0.0182434879,-0.0388440527,-0.0319299176,-0.0429628417,-0.0390966795,-0.0052938247,0.0093544526,-0.023162799,-0.025080828,-0.0348303393,-0.0163598359,-0.006468738,-0.0149126565,0.0077296328,0.0591111146,0.0103059402,0.0682312399,-0.0438173749,-0.0278906804,-0.0551387109,-0.013245305,-0.0397248827,0.0178534705,0.0699493438,0.0716888085,0.0461145118,0.0093863988,-0.0024725739,0.0366344266,-0.0219191387,0.0457178131,0.0560500175,-0.0101015689,-0.0398882963,-0.004045839,-0.0904849991,-0.0266232248,0.0571913645,-0.0081984224,-0.0106008882,0.0171232205,0.0266970098,0.0239827558,0.0438010581,0.0037344405,-0.0331563652,0.0265535042,-0.0246795658,0.0280627962,-0.0100713698,-0.0086236317,0.0291449036,0.0361800939,0.0117222089,0.0009846109,-0.0333942138,0.0164770782,-0.0096393675,-0.0180821884,0.0447288007,0.0213746186,-0.0229419693,0.0062614288,0.0426849425,0.0402563661,0.0133490162,-0.0027721103,0.0064857155,-0.0166010745,0.0022493643,-0.020265799,-0.0528652444,-0.0149789518,-0.0290168356,-0.0310718585,0.0042248997,-0.0467769206,-0.0354229212,0.0622461848,0.0499522611,0.0275962707,0.0261962004,0.0598392561,-0.0135304434,0.0260052755,-0.0039514815,-0.0290766805,0.019776253,0.0206833016,-0.0159539264,0.0394478366,0.0003969439,0.009520215,0.0062426357,-0.0270294622,0.0037792944,-0.0532113649,0.043103531,0.056113936,-0.0250706654,0.0248740781,0.01541813,-0.0304771382,-0.0167967491,-0.0322976671,-0.0032780282,-0.0625511557,-0.0021506916,-0.0134119177,-0.0332626328,-0.0277320258,-0.0311845727,0.0232682582,0.0405082665,-0.0213441961,-0.0505129546,0.0001645192,0.0297194906,-0.0408451743,-0.0507166274,-0.0667643771,-0.0177187733,-0.0169049744,0.0255136508,0.0141450474,0.0033897378,0.0206485298,-0.0121127749,-0.0277594645,-0.0398449637,-0.0101415841,-0.0234315749,-0.0218593106,0.0070511121,0.0001349138,-0.0348572806,-0.0056576943,-0.0529358312,0.0195369646,0.0014516993,-0.0233232416,0.0243180711,-0.0049383445,0.0218152609,0.0212200657,-0.0243881438,0.0376511663,0.0039493479,0.0032908004,0.0063495631,0.0150425769,-0.0303114671,-0.0191226956,-0.0385774188,0.0015232485,-0.0179203022,-0.021294171,0.0707114413,0.0425322391,-0.0060255108,0.0027600778,0.0397045501,0.0195668861,-0.0139250914,0.0416047424,-0.0261154491,0.0285167769,-0.0306372996,0.0009996926,-0.0456511118,0.0099204993,-0.0582110621,-0.01976013,0.0025710305,0.0468097106,-0.0414203592,-0.0525086187,-0.0716213658,-0.0110081797,0.0293221883,-0.0016723932,0.0091642011,0.047413718,0.0464404263,-0.0019035687,-0.0221129898,0.0316515565,0.0215683002,0.0151093407,-0.0340028666,-0.0233794115,0.0236523468,0.0231607389,0.0346501656,-0.0130060818,-0.020198822,-0.0692623705,0.0313078426,-0.0179882757,0.0205361433,0.0211226698,0.037483938,-0.0720233545,0.0347637199,-0.0394637883,0.038681712,-0.0059876945,-0.0633936226,0.0527736582,-0.0406848416,-0.0015838832,-0.0360681191,0.051897224,-0.0321677402,0.0152286235,0.0354605243,-0.0136961555,-0.0120771695,-0.0379980765,0.0476800464,-0.0112637142,0.0210263468,0.0402251966,0.005272123,-0.0183899608,-0.0479801707,0.0210650675,0.0161356609,0.0184947141,-0.0157943238,0.0064109121,0.0155378683,0.030479826,-0.0480052419,0.0245250762,-0.018139733,-0.0322557539,0.0557771549,-0.0073654125,-0.015950961,0.0123577779,-0.0321619362,-0.0561135113,-0.0469594076,0.0587281175,-0.0148141347,-0.0101386793,0.0304703675,0.0467955172,0.0157156661,0.0436390564,-0.0163896885,-0.0240498614,0.0246726256,0.009602746,0.0421041436,0.0231589414,-0.0271586776,-0.0482819602,-0.031650681,0.0097390292,0.0063274652,-0.0118217878,-0.0301810112,-0.044029247,-0.0831485614,0.0448453575,-0.0213365983,0.0096223997,0.0570572242,-0.0771165341,0.0650385246,0.0386749655,0.0085476842,-0.0018185911,-0.0365394875,0.0151848989,-0.0031736994,0.0382185057,-0.0145906154,-0.0067156204,0.0068675675,0.0690660998]}\n"
     ]
    }
   ],
   "source": [
    "# save id and embedding as a json file\n",
    "jsonl_string = df[[\"id\", \"embedding\"]].to_json(orient=\"records\", lines=True)\n",
    "with open(\"questions.json\", \"w\") as f:\n",
    "    f.write(jsonl_string)\n",
    "\n",
    "# show the first few lines of the json file\n",
    "! head -n 3 questions.json"
   ]
  },
  {
   "cell_type": "markdown",
   "metadata": {
    "id": "-WTNJ3FAQl_W"
   },
   "source": [
    "Then, create a new Cloud Storage bucket and copy the file to it."
   ]
  },
  {
   "cell_type": "code",
   "execution_count": 22,
   "metadata": {
    "id": "CzwDWJfzAk3n",
    "tags": []
   },
   "outputs": [
    {
     "name": "stdout",
     "output_type": "stream",
     "text": [
      "Creating gs://qwiklabs-gcp-03-5339ad6e2c90-embvs-tutorial-07300407/...\n",
      "Copying file://questions.json [Content-Type=application/json]...\n",
      "/ [1 files][  9.8 MiB/  9.8 MiB]                                                \n",
      "Operation completed over 1 objects/9.8 MiB.                                      \n"
     ]
    }
   ],
   "source": [
    "BUCKET_URI = f\"gs://{PROJECT_ID}-embvs-tutorial-{UID}\"\n",
    "! gsutil mb -l $LOCATION -p {PROJECT_ID} {BUCKET_URI}\n",
    "! gsutil cp questions.json {BUCKET_URI}"
   ]
  },
  {
   "cell_type": "markdown",
   "metadata": {
    "id": "xxdbjKw1XDxl"
   },
   "source": [
    "### Create an Index\n",
    "\n",
    "Now it's ready to load the embeddings to Vector Search. Its APIs are available under the [aiplatform](https://cloud.google.com/python/docs/reference/aiplatform/latest/google.cloud.aiplatform) package of the SDK."
   ]
  },
  {
   "cell_type": "code",
   "execution_count": 23,
   "metadata": {
    "id": "8unyr9KagAoI",
    "tags": []
   },
   "outputs": [],
   "source": [
    "# init the aiplatform package\n",
    "from google.cloud import aiplatform\n",
    "\n",
    "aiplatform.init(project=PROJECT_ID, location=LOCATION)"
   ]
  },
  {
   "cell_type": "markdown",
   "metadata": {
    "id": "xpMUXqWQ75uu"
   },
   "source": [
    "Create an [MatchingEngineIndex](https://cloud.google.com/python/docs/reference/aiplatform/latest/google.cloud.aiplatform.MatchingEngineIndex) with its `create_tree_ah_index` function (Matching Engine is the previous name of Vector Search)."
   ]
  },
  {
   "cell_type": "code",
   "execution_count": 24,
   "metadata": {
    "tags": []
   },
   "outputs": [
    {
     "name": "stdout",
     "output_type": "stream",
     "text": [
      "us-west1 07300407 qwiklabs-gcp-03-5339ad6e2c90\n"
     ]
    }
   ],
   "source": [
    "print(LOCATION,UID,PROJECT_ID)"
   ]
  },
  {
   "cell_type": "code",
   "execution_count": 25,
   "metadata": {
    "id": "kKDw5VXMkXb3",
    "tags": []
   },
   "outputs": [
    {
     "name": "stdout",
     "output_type": "stream",
     "text": [
      "Creating MatchingEngineIndex\n",
      "Create MatchingEngineIndex backing LRO: projects/294079641087/locations/us-west1/indexes/8008059844441407488/operations/2234608124751249408\n",
      "MatchingEngineIndex created. Resource name: projects/294079641087/locations/us-west1/indexes/8008059844441407488\n",
      "To use this MatchingEngineIndex in another session:\n",
      "index = aiplatform.MatchingEngineIndex('projects/294079641087/locations/us-west1/indexes/8008059844441407488')\n"
     ]
    }
   ],
   "source": [
    "# create index\n",
    "my_index = aiplatform.MatchingEngineIndex.create_tree_ah_index(\n",
    "    display_name=f\"embvs-tutorial-index-{UID}\",\n",
    "    contents_delta_uri=BUCKET_URI,\n",
    "    dimensions=768,\n",
    "    approximate_neighbors_count=20,\n",
    "    distance_measure_type=\"DOT_PRODUCT_DISTANCE\",\n",
    ")"
   ]
  },
  {
   "cell_type": "markdown",
   "metadata": {
    "id": "2rFam_w9U0dI"
   },
   "source": [
    "By calling the `create_tree_ah_index` function, it starts building an Index. This will take under a few minutes if the dataset is small, otherwise about 50 minutes or more depending on the size of the dataset. You can check status of the index creation on [the Vector Search Console > INDEXES tab](https://console.cloud.google.com/vertex-ai/matching-engine/indexes).\n",
    "\n",
    "![](https://storage.googleapis.com/github-repo/img/embeddings/vs-quickstart/creating-index.png)\n",
    "\n",
    "#### The parameters for creating index\n",
    "\n",
    "- `contents_delta_uri`: The URI of Cloud Storage directory where you stored the embedding JSON files\n",
    "- `dimensions`: Dimension size of each embedding. In this case, it is 768 as we are using the embeddings from the Text Embeddings API.\n",
    "- `approximate_neighbors_count`: how many similar items we want to retrieve in typical cases\n",
    "- `distance_measure_type`: what metrics to measure distance/similarity between embeddings. In this case it's `DOT_PRODUCT_DISTANCE`\n",
    "\n",
    "See [the document](https://cloud.google.com/vertex-ai/docs/vector-search/create-manage-index) for more details on creating Index and the parameters.\n",
    "\n",
    "#### Batch Update or Streaming Update?\n",
    "There are two types of index: Index for *Batch Update* (used in this tutorial) and Index for *Streaming Updates*. The Batch Update index can be updated with a batch process whereas the Streaming Update index can be updated in real-time. The latter one is more suited for use cases where you want to add or update each embeddings in the index more often, and crucial to serve with the latest embeddings, such as e-commerce product search.\n"
   ]
  },
  {
   "cell_type": "markdown",
   "metadata": {
    "id": "VLOAMF50XMI8"
   },
   "source": [
    "### Create Index Endpoint and deploy the Index\n",
    "\n",
    "To use the Index, you need to create an [Index Endpoint](https://cloud.google.com/vertex-ai/docs/vector-search/deploy-index-public). It works as a server instance accepting query requests for your Index."
   ]
  },
  {
   "cell_type": "code",
   "execution_count": 26,
   "metadata": {
    "id": "h6IzyufWCjU1",
    "tags": []
   },
   "outputs": [
    {
     "name": "stdout",
     "output_type": "stream",
     "text": [
      "Creating MatchingEngineIndexEndpoint\n",
      "Create MatchingEngineIndexEndpoint backing LRO: projects/294079641087/locations/us-west1/indexEndpoints/8341642876215623680/operations/6988720481394229248\n",
      "MatchingEngineIndexEndpoint created. Resource name: projects/294079641087/locations/us-west1/indexEndpoints/8341642876215623680\n",
      "To use this MatchingEngineIndexEndpoint in another session:\n",
      "index_endpoint = aiplatform.MatchingEngineIndexEndpoint('projects/294079641087/locations/us-west1/indexEndpoints/8341642876215623680')\n"
     ]
    }
   ],
   "source": [
    "# create IndexEndpoint\n",
    "my_index_endpoint = aiplatform.MatchingEngineIndexEndpoint.create(\n",
    "    display_name=f\"embvs-tutorial-index-endpoint-{UID}\",\n",
    "    public_endpoint_enabled=True,\n",
    ")"
   ]
  },
  {
   "cell_type": "markdown",
   "metadata": {
    "id": "11e3e1a3a9e9"
   },
   "source": [
    "This tutorial utilizes a [Public Endpoint](https://cloud.google.com/vertex-ai/docs/vector-search/setup/setup#choose-endpoint) and does not support [Virtual Private Cloud (VPC)](https://cloud.google.com/vpc/docs/private-services-access). Unless you have a specific requirement for VPC, we recommend using a Public Endpoint. Despite the term \"public\" in its name, it does not imply open access to the public internet. Rather, it functions like other endpoints in Vertex AI services, which are secured by default through IAM. Without explicit IAM permissions, as we have previously established, no one can access the endpoint."
   ]
  },
  {
   "cell_type": "markdown",
   "metadata": {
    "id": "8n33iO1T5hFO"
   },
   "source": [
    "With the Index Endpoint, deploy the Index by specifying an unique deployed index ID."
   ]
  },
  {
   "cell_type": "code",
   "execution_count": 27,
   "metadata": {
    "id": "FcBHLifGwAWq",
    "tags": []
   },
   "outputs": [],
   "source": [
    "DEPLOYED_INDEX_ID = f\"embvs_tutorial_deployed_{UID}\""
   ]
  },
  {
   "cell_type": "code",
   "execution_count": 28,
   "metadata": {
    "id": "1jUoGhY5TPFP",
    "tags": []
   },
   "outputs": [
    {
     "name": "stdout",
     "output_type": "stream",
     "text": [
      "Deploying index MatchingEngineIndexEndpoint index_endpoint: projects/294079641087/locations/us-west1/indexEndpoints/8341642876215623680\n",
      "Deploy index MatchingEngineIndexEndpoint index_endpoint backing LRO: projects/294079641087/locations/us-west1/indexEndpoints/8341642876215623680/operations/8548654802324684800\n",
      "MatchingEngineIndexEndpoint index_endpoint Deployed index. Resource name: projects/294079641087/locations/us-west1/indexEndpoints/8341642876215623680\n"
     ]
    },
    {
     "data": {
      "text/plain": [
       "<google.cloud.aiplatform.matching_engine.matching_engine_index_endpoint.MatchingEngineIndexEndpoint object at 0x7fea4db68580> \n",
       "resource name: projects/294079641087/locations/us-west1/indexEndpoints/8341642876215623680"
      ]
     },
     "execution_count": 28,
     "metadata": {},
     "output_type": "execute_result"
    }
   ],
   "source": [
    "# deploy the Index to the Index Endpoint\n",
    "my_index_endpoint.deploy_index(index=my_index, deployed_index_id=DEPLOYED_INDEX_ID)"
   ]
  },
  {
   "cell_type": "markdown",
   "metadata": {
    "id": "xu9ZmWcpXQ55"
   },
   "source": [
    "If it is the first time to deploy an Index to an Index Endpoint, it will take around 25 minutes to automatically build and initiate the backend for it. After the first deployment, it will finish in seconds. To see the status of the index deployment, open [the Vector Search Console > INDEX ENDPOINTS tab](https://console.cloud.google.com/vertex-ai/matching-engine/index-endpoints) and click the Index Endpoint.\n",
    "\n",
    "<img src=\"https://storage.googleapis.com/github-repo/img/embeddings/vs-quickstart/deploying-index.png\" width=\"70%\">"
   ]
  },
  {
   "cell_type": "markdown",
   "metadata": {
    "id": "oTi4PjjbXV-O"
   },
   "source": [
    "### Run Query\n",
    "\n",
    "Finally it's ready to use Vector Search. In the following code, it creates an embedding for a test question, and find similar question with the Vector Search."
   ]
  },
  {
   "cell_type": "code",
   "execution_count": 29,
   "metadata": {
    "id": "FhNuRQqUWdfe",
    "tags": []
   },
   "outputs": [
    {
     "name": "stderr",
     "output_type": "stream",
     "text": [
      "100%|██████████| 1/1 [00:01<00:00,  1.30s/it]\n"
     ]
    }
   ],
   "source": [
    "test_embeddings = get_embeddings_wrapper([\"How to read JSON with Python?\"])"
   ]
  },
  {
   "cell_type": "code",
   "execution_count": 30,
   "metadata": {
    "id": "Q01DGMBPXAg-",
    "tags": []
   },
   "outputs": [
    {
     "name": "stdout",
     "output_type": "stream",
     "text": [
      "0.6313 change json field type while read by pyarrow\n",
      "0.6101 Create pandas datafram from string with key value pairs in Python\n",
      "0.5846 Iteratively populate a nested dictionary in Python\n",
      "0.5811 Django / error : Object of type *** is not JSON serializable\n",
      "0.5636 Parsing Nested JSON give Unhandled Exception\n",
      "0.5582 Format JSON Result\n",
      "0.5534 How to plot data over OpenStreetMap (Python)\n",
      "0.5457 How to create new dictionaries from nested dictionary?\n",
      "0.5454 Loading Valid Values from Another JSON File\n",
      "0.5326 Recursively navigating through dictionary in the django template\n",
      "0.5316 How to fix Python: Mac OS X. malloc error?\n",
      "0.5304 find value for all ids in row and then sum python\n",
      "0.5271 Construct a data frame with pandas\n",
      "0.5251 How do I deserialize JSON where there is an array of ane/value properties along with a Location which has three values?\n",
      "0.5224 have the data of rows on columns in pandas\n",
      "0.5167 Post and receive Json String using retrofit in an android application\n",
      "0.5103 java.lang.NoClassDefFoundError: org/json/JSONObject in customised jar file\n",
      "0.5070 how do you split a list into 3 lists, for each list in a list? Python Beginner\n",
      "0.5025 Jackson Filter and Deserialize from a List of Objects\n",
      "0.5022 Python - Creating a custom dataframe from transposing an existing one\n"
     ]
    }
   ],
   "source": [
    "# Test query\n",
    "response = my_index_endpoint.find_neighbors(\n",
    "    deployed_index_id=DEPLOYED_INDEX_ID,\n",
    "    queries=test_embeddings,\n",
    "    num_neighbors=20,\n",
    ")\n",
    "\n",
    "# show the result\n",
    "import numpy as np\n",
    "\n",
    "for idx, neighbor in enumerate(response[0]):\n",
    "    id = np.int64(neighbor.id)\n",
    "    similar = df.query(\"id == @id\", engine=\"python\")\n",
    "    print(f\"{neighbor.distance:.4f} {similar.title.values[0]}\")"
   ]
  },
  {
   "cell_type": "markdown",
   "metadata": {
    "id": "tPDOL9caoYZ9"
   },
   "source": [
    "The `find_neighbors` function only takes milliseconds to fetch the similar items even when you have billions of items on the Index, thanks to the ScaNN algorithm. Vector Search also supports [autoscaling](https://cloud.google.com/vertex-ai/docs/vector-search/deploy-index-public#autoscaling) which can automatically resize the number of nodes based on the demands of your workloads."
   ]
  },
  {
   "cell_type": "markdown",
   "metadata": {
    "id": "DDt4D6FDyc66"
   },
   "source": [
    "# IMPORTANT: Cleaning Up\n",
    "\n",
    "In case you are using your own Cloud project, not a temporary project on Qwiklab, please make sure to delete all the Indexes, Index Endpoints and Cloud Storage buckets after finishing this tutorial. Otherwise the remaining objects would **incur unexpected costs**.\n",
    "\n",
    "If you used Workbench, you may also need to delete the Notebooks from [the console](https://console.cloud.google.com/vertex-ai/workbench)."
   ]
  },
  {
   "cell_type": "code",
   "execution_count": null,
   "metadata": {
    "id": "MEsKVzguyxNx"
   },
   "outputs": [],
   "source": [
    "# wait for a confirmation\n",
    "input(\"Press Enter to delete Index Endpoint, Index and Cloud Storage bucket:\")\n",
    "\n",
    "# delete Index Endpoint\n",
    "my_index_endpoint.undeploy_all()\n",
    "my_index_endpoint.delete(force=True)\n",
    "\n",
    "# delete Index\n",
    "my_index.delete()\n",
    "\n",
    "# delete Cloud Storage bucket\n",
    "! gsutil rm -r {BUCKET_URI}"
   ]
  },
  {
   "cell_type": "markdown",
   "metadata": {
    "id": "b8k26QOF3Ys7"
   },
   "source": [
    "# Summary\n",
    "\n",
    "## Grounding LLM outputs with Vertex AI Vector Search\n",
    "\n",
    "As we have seen, by combining the Embeddings API and Vector Search, you can use the embeddings to \"ground\" LLM outputs to real business data with low latency.\n",
    "\n",
    "For example, if an user asks a question, Embeddings API can convert it to an embedding, and issue a query on Vector Search to find similar embeddings in its index. Those embeddings represent the actual business data in the databases. As we are just retrieving the business data and not generating any artificial texts, there is no risk of having hallucinations in the result.\n",
    "\n",
    "![](https://storage.googleapis.com/gweb-cloudblog-publish/original_images/10._grounding.png)\n",
    "\n",
    "### The difference between the questions and answers\n",
    "\n",
    "In this tutorial, we have used the Stack Overflow dataset. There is a reason why we had to use it; As the dataset has many pairs of **questions and answers**, so you can just find questions similar to your question to find answers to it.\n",
    "\n",
    "In many business use cases, the semantics (meaning) of questions and answers are different. Also, there could be cases where you would want to add variety of recommended or personalized items to the results, like product search on e-commerce sites.\n",
    "\n",
    "In these cases, the simple semantics search don't work well. It's more like a recommendation system problem where you may want to train a model (e.g. Two-Tower model) to learn the relationship between the question embedding space and answer embedding space. Also, many production systems adds reranking phase after the semantic search to achieve higher search quality. Please see [Scaling deep retrieval with TensorFlow Recommenders and Vertex AI Matching Engine](https://cloud.google.com/blog/products/ai-machine-learning/scaling-deep-retrieval-tensorflow-two-towers-architecture) to learn more.\n",
    "\n",
    "### Hybrid of semantic + keyword search\n",
    "\n",
    "Another typical challenge you will face in production system is to support keyword search combined with the semantic search. For example, for e-commerce product search, you may want to let users find product by entering its product name or model number. As LLM doesn't memorize those product names or model numbers, semantic search can't handle those \"usual\" search functionalities.\n",
    "\n",
    "[Vertex AI Search](https://cloud.google.com/blog/products/ai-machine-learning/vertex-ai-search-and-conversation-is-now-generally-available) is another product you may consider for those requirements. While Vector Search provides a simple semantic search capability only, Search provides a integrated search solution that combines semantic search, keyword search, reranking and filtering, available as an out-of-the-box tool.\n",
    "\n",
    "### What about Retrieval Augmented Generation (RAG)?\n",
    "\n",
    "In this tutorial, we have looked at the simple combination of LLM embeddings and vector search. From this starting point, you may also extend the design to [Retrieval Augmented Generation (RAG)](https://www.google.com/search?q=Retrieval+Augmented+Generation+(RAG)&oq=Retrieval+Augmented+Generation+(RAG)).\n",
    "\n",
    "RAG is a popular architecture pattern of implementing grounding with LLM with text chat UI. The idea is to have the LLM text chat UI as a frontend for the document retrieval with vector search and summarization of the result.\n",
    "\n",
    "![](https://storage.googleapis.com/gweb-cloudblog-publish/images/Figure-7-Ask_Your_Documents_Flow.max-529x434.png)\n",
    "\n",
    "There are some pros and cons between the two solutions.\n",
    "\n",
    "| | Embeddings + vector search | RAG |\n",
    "|---|---|---|\n",
    "| Design | simple | complex |\n",
    "| UI | Text search UI | Text chat UI |\n",
    "| Summarization of result | No | Yes |\n",
    "| Multi-turn (Context aware) | No | Yes |\n",
    "| Latency | milliseconds | seconds |\n",
    "| Cost | lower | higher |\n",
    "| Hallucinations | No risk | Some risk |\n",
    "\n",
    "The Embedding + vector search pattern we have looked at with this tutorial provides simple, fast and low cost semantic search functionality with the LLM intelligence. RAG adds context-aware text chat experience and result summarization to it. While RAG provides the more \"Gen AI-ish\" experience, it also adds a risk of hallucination and higher cost and time for the text generation.\n",
    "\n",
    "To learn more about how to build a RAG solution, you may look at [Building Generative AI applications made easy with Vertex AI PaLM API and LangChain](https://cloud.google.com/blog/products/ai-machine-learning/generative-ai-applications-with-vertex-ai-palm-2-models-and-langchain).\n",
    "\n",
    "## Resources\n",
    "\n",
    "To learn more, please check out the following resources:\n",
    "\n",
    "### Documentations\n",
    "\n",
    "[Vertex AI Embeddings for Text API documentation\n",
    "](https://cloud.google.com/vertex-ai/docs/generative-ai/embeddings/get-text-embeddings)\n",
    "\n",
    "[Vector Search documentation](https://cloud.google.com/vertex-ai/docs/matching-engine/overview)\n",
    "\n",
    "### Vector Search blog posts\n",
    "\n",
    "[Vertex Matching Engine: Blazing fast and massively scalable nearest neighbor search](https://cloud.google.com/blog/products/ai-machine-learning/vertex-matching-engine-blazing-fast-and-massively-scalable-nearest-neighbor-search)\n",
    "\n",
    "[Find anything blazingly fast with Google's vector search technology](https://cloud.google.com/blog/topics/developers-practitioners/find-anything-blazingly-fast-googles-vector-search-technology)\n",
    "\n",
    "[Enabling real-time AI with Streaming Ingestion in Vertex AI](https://cloud.google.com/blog/products/ai-machine-learning/real-time-ai-with-google-cloud-vertex-ai)\n",
    "\n",
    "[Mercari leverages Google's vector search technology to create a new marketplace](https://cloud.google.com/blog/topics/developers-practitioners/mercari-leverages-googles-vector-search-technology-create-new-marketplace)\n",
    "\n",
    "[Recommending news articles using Vertex AI Matching Engine](https://cloud.google.com/blog/products/ai-machine-learning/recommending-articles-using-vertex-ai-matching-engine)\n",
    "\n",
    "[What is Multimodal Search: \"LLMs with vision\" change businesses](https://cloud.google.com/blog/products/ai-machine-learning/multimodal-generative-ai-search)"
   ]
  },
  {
   "cell_type": "markdown",
   "metadata": {
    "id": "BE1tELsH-u8N"
   },
   "source": [
    "# Utilities\n",
    "\n",
    "Sometimes it takes tens of minutes to create or deploy Indexes and you would lose connection with the Colab runtime. In that case, instead of creating or deploying new Index again, you can check [the Vector Search Console](https://console.cloud.google.com/vertex-ai/matching-engine/index-endpoints) and get the existing ones to continue."
   ]
  },
  {
   "cell_type": "markdown",
   "metadata": {
    "id": "wF_pkdpJ-yaq"
   },
   "source": [
    "## Get an existing Index\n",
    "\n",
    "To get an Index object that already exists, replace the following `[your-index-id]` with the index ID and run the cell. You can check the ID on [the Vector Search Console > INDEXES tab](https://console.cloud.google.com/vertex-ai/matching-engine/indexes)."
   ]
  },
  {
   "cell_type": "code",
   "execution_count": null,
   "metadata": {
    "id": "mEBkZZt_-0jG"
   },
   "outputs": [],
   "source": [
    "my_index_id = \"[your-index-id]\"  # @param {type:\"string\"}\n",
    "my_index = aiplatform.MatchingEngineIndex(my_index_id)"
   ]
  },
  {
   "cell_type": "markdown",
   "metadata": {
    "id": "_vlgzkyw-3CI"
   },
   "source": [
    "## Get an existing Index Endpoint\n",
    "\n",
    "To get an Index Endpoint object that already exists, replace the following `[your-index-endpoint-id]` with the Index Endpoint ID and run the cell. You can check the ID on [the Vector Search Console > INDEX ENDPOINTS tab](https://console.cloud.google.com/vertex-ai/matching-engine/index-endpoints)."
   ]
  },
  {
   "cell_type": "code",
   "execution_count": null,
   "metadata": {
    "id": "E0OFnirF-6Rk"
   },
   "outputs": [],
   "source": [
    "my_index_endpoint_id = \"[your-index-endpoint-id]\"  # @param {type:\"string\"}\n",
    "my_index_endpoint = aiplatform.MatchingEngineIndexEndpoint(my_index_endpoint_id)"
   ]
  }
 ],
 "metadata": {
  "colab": {
   "name": "intro-textemb-vectorsearch.ipynb",
   "toc_visible": true
  },
  "environment": {
   "kernel": "conda-base-py",
   "name": "workbench-notebooks.m131",
   "type": "gcloud",
   "uri": "us-docker.pkg.dev/deeplearning-platform-release/gcr.io/workbench-notebooks:m131"
  },
  "kernelspec": {
   "display_name": "Python 3 (ipykernel) (Local)",
   "language": "python",
   "name": "conda-base-py"
  },
  "language_info": {
   "codemirror_mode": {
    "name": "ipython",
    "version": 3
   },
   "file_extension": ".py",
   "mimetype": "text/x-python",
   "name": "python",
   "nbconvert_exporter": "python",
   "pygments_lexer": "ipython3",
   "version": "3.10.18"
  }
 },
 "nbformat": 4,
 "nbformat_minor": 4
}
